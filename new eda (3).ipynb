{
 "cells": [
  {
   "cell_type": "code",
   "execution_count": 134,
   "id": "39f9bdad-3241-4f91-8327-1cb3876277a3",
   "metadata": {},
   "outputs": [],
   "source": [
    "import pandas as pd \n",
    "import numpy as np\n",
    "import matplotlib.pyplot as plt\n",
    "import seaborn as sns\n",
    "import warnings\n",
    "warnings.filterwarnings(\"ignore\")"
   ]
  },
  {
   "cell_type": "code",
   "execution_count": null,
   "id": "a8df65da-7550-43a6-abf0-e261501e0cbd",
   "metadata": {},
   "outputs": [],
   "source": [
    "## STARTS UPS IN INDIA AND THE INVESTMENT DONE"
   ]
  },
  {
   "cell_type": "code",
   "execution_count": 135,
   "id": "cbeb1720-5dd8-4e5f-aaa1-ee03d598d88f",
   "metadata": {},
   "outputs": [
    {
     "data": {
      "text/html": [
       "<div>\n",
       "<style scoped>\n",
       "    .dataframe tbody tr th:only-of-type {\n",
       "        vertical-align: middle;\n",
       "    }\n",
       "\n",
       "    .dataframe tbody tr th {\n",
       "        vertical-align: top;\n",
       "    }\n",
       "\n",
       "    .dataframe thead th {\n",
       "        text-align: right;\n",
       "    }\n",
       "</style>\n",
       "<table border=\"1\" class=\"dataframe\">\n",
       "  <thead>\n",
       "    <tr style=\"text-align: right;\">\n",
       "      <th></th>\n",
       "      <th>Sr No</th>\n",
       "      <th>Date dd/mm/yyyy</th>\n",
       "      <th>Startup Name</th>\n",
       "      <th>Industry Vertical</th>\n",
       "      <th>SubVertical</th>\n",
       "      <th>City  Location</th>\n",
       "      <th>Investors Name</th>\n",
       "      <th>InvestmentnType</th>\n",
       "      <th>Amount in USD</th>\n",
       "      <th>Remarks</th>\n",
       "    </tr>\n",
       "  </thead>\n",
       "  <tbody>\n",
       "    <tr>\n",
       "      <th>0</th>\n",
       "      <td>1</td>\n",
       "      <td>09/01/2020</td>\n",
       "      <td>BYJU’S</td>\n",
       "      <td>E-Tech</td>\n",
       "      <td>E-learning</td>\n",
       "      <td>Bengaluru</td>\n",
       "      <td>Tiger Global Management</td>\n",
       "      <td>Private Equity Round</td>\n",
       "      <td>20,00,00,000</td>\n",
       "      <td>NaN</td>\n",
       "    </tr>\n",
       "    <tr>\n",
       "      <th>1</th>\n",
       "      <td>2</td>\n",
       "      <td>13/01/2020</td>\n",
       "      <td>Shuttl</td>\n",
       "      <td>Transportation</td>\n",
       "      <td>App based shuttle service</td>\n",
       "      <td>Gurgaon</td>\n",
       "      <td>Susquehanna Growth Equity</td>\n",
       "      <td>Series C</td>\n",
       "      <td>80,48,394</td>\n",
       "      <td>NaN</td>\n",
       "    </tr>\n",
       "    <tr>\n",
       "      <th>2</th>\n",
       "      <td>3</td>\n",
       "      <td>09/01/2020</td>\n",
       "      <td>Mamaearth</td>\n",
       "      <td>E-commerce</td>\n",
       "      <td>Retailer of baby and toddler products</td>\n",
       "      <td>Bengaluru</td>\n",
       "      <td>Sequoia Capital India</td>\n",
       "      <td>Series B</td>\n",
       "      <td>1,83,58,860</td>\n",
       "      <td>NaN</td>\n",
       "    </tr>\n",
       "    <tr>\n",
       "      <th>3</th>\n",
       "      <td>4</td>\n",
       "      <td>02/01/2020</td>\n",
       "      <td>https://www.wealthbucket.in/</td>\n",
       "      <td>FinTech</td>\n",
       "      <td>Online Investment</td>\n",
       "      <td>New Delhi</td>\n",
       "      <td>Vinod Khatumal</td>\n",
       "      <td>Pre-series A</td>\n",
       "      <td>30,00,000</td>\n",
       "      <td>NaN</td>\n",
       "    </tr>\n",
       "    <tr>\n",
       "      <th>4</th>\n",
       "      <td>5</td>\n",
       "      <td>02/01/2020</td>\n",
       "      <td>Fashor</td>\n",
       "      <td>Fashion and Apparel</td>\n",
       "      <td>Embroiled Clothes For Women</td>\n",
       "      <td>Mumbai</td>\n",
       "      <td>Sprout Venture Partners</td>\n",
       "      <td>Seed Round</td>\n",
       "      <td>18,00,000</td>\n",
       "      <td>NaN</td>\n",
       "    </tr>\n",
       "  </tbody>\n",
       "</table>\n",
       "</div>"
      ],
      "text/plain": [
       "   Sr No Date dd/mm/yyyy                  Startup Name    Industry Vertical  \\\n",
       "0      1      09/01/2020                        BYJU’S               E-Tech   \n",
       "1      2      13/01/2020                        Shuttl       Transportation   \n",
       "2      3      09/01/2020                     Mamaearth           E-commerce   \n",
       "3      4      02/01/2020  https://www.wealthbucket.in/              FinTech   \n",
       "4      5      02/01/2020                        Fashor  Fashion and Apparel   \n",
       "\n",
       "                             SubVertical City  Location  \\\n",
       "0                             E-learning      Bengaluru   \n",
       "1              App based shuttle service        Gurgaon   \n",
       "2  Retailer of baby and toddler products      Bengaluru   \n",
       "3                      Online Investment      New Delhi   \n",
       "4            Embroiled Clothes For Women         Mumbai   \n",
       "\n",
       "              Investors Name       InvestmentnType Amount in USD Remarks  \n",
       "0    Tiger Global Management  Private Equity Round  20,00,00,000     NaN  \n",
       "1  Susquehanna Growth Equity              Series C     80,48,394     NaN  \n",
       "2      Sequoia Capital India              Series B   1,83,58,860     NaN  \n",
       "3             Vinod Khatumal          Pre-series A     30,00,000     NaN  \n",
       "4    Sprout Venture Partners            Seed Round     18,00,000     NaN  "
      ]
     },
     "execution_count": 135,
     "metadata": {},
     "output_type": "execute_result"
    }
   ],
   "source": [
    "df=pd.read_csv(\"startup_funding.csv\")\n",
    "df1=pd.read_csv(\"startup_funding.csv\")\n",
    "df1.head()"
   ]
  },
  {
   "cell_type": "markdown",
   "id": "9cb9a7d8-07dd-49a6-b562-1c9cf642dd17",
   "metadata": {},
   "source": [
    "### Easy  \n",
    "##### Check for Missing Values: What percentage of each column contains missing values?\n",
    "#### answer: the remarks column has the more percentage of null values then \"Amount in usd \" having 31.5 %and  investment vertical have least null values "
   ]
  },
  {
   "cell_type": "code",
   "execution_count": 136,
   "id": "a477c161-0309-4b14-b739-201215f638a1",
   "metadata": {},
   "outputs": [
    {
     "data": {
      "text/plain": [
       "Sr No                 int64\n",
       "Date dd/mm/yyyy      object\n",
       "Startup Name         object\n",
       "Industry Vertical    object\n",
       "SubVertical          object\n",
       "City  Location       object\n",
       "Investors Name       object\n",
       "InvestmentnType      object\n",
       "Amount in USD        object\n",
       "Remarks              object\n",
       "dtype: object"
      ]
     },
     "execution_count": 136,
     "metadata": {},
     "output_type": "execute_result"
    }
   ],
   "source": [
    "df1.dtypes"
   ]
  },
  {
   "cell_type": "code",
   "execution_count": 137,
   "id": "5e382fd1-853e-45b8-ac3d-3aad6757e4af",
   "metadata": {},
   "outputs": [
    {
     "data": {
      "text/plain": [
       "Sr No                   0\n",
       "Date dd/mm/yyyy         0\n",
       "Startup Name            0\n",
       "Industry Vertical     171\n",
       "SubVertical           936\n",
       "City  Location        180\n",
       "Investors Name         24\n",
       "InvestmentnType         4\n",
       "Amount in USD         960\n",
       "Remarks              2625\n",
       "dtype: int64"
      ]
     },
     "execution_count": 137,
     "metadata": {},
     "output_type": "execute_result"
    }
   ],
   "source": [
    "df1.isnull().sum()"
   ]
  },
  {
   "cell_type": "code",
   "execution_count": 138,
   "id": "434ad6a4-be20-4f37-826b-763c145adb38",
   "metadata": {},
   "outputs": [
    {
     "data": {
      "text/plain": [
       "Sr No                 0.0\n",
       "Date dd/mm/yyyy       0.0\n",
       "Startup Name          0.0\n",
       "Industry Vertical     5.6\n",
       "SubVertical          30.7\n",
       "City  Location        5.9\n",
       "Investors Name        0.8\n",
       "InvestmentnType       0.1\n",
       "Amount in USD        31.5\n",
       "Remarks              86.2\n",
       "dtype: float64"
      ]
     },
     "execution_count": 138,
     "metadata": {},
     "output_type": "execute_result"
    }
   ],
   "source": [
    "((df1.isnull().sum()/3044)*100).round(1)"
   ]
  },
  {
   "cell_type": "markdown",
   "id": "59841c9d-54fb-4d08-a968-19afc84ba22e",
   "metadata": {},
   "source": [
    "##### Standardize Date Format: Are all dates in the correct format (dd/mm/yyyy)? If not, how many need correction?\n",
    "##### Answer : I TRIED TO MAKE FUNCTION HERE TO CHECK IF THERE IS COREECT FORMAT FOR DATE USING START PARASE TIME ( IT ACTUALLY USED TO  CHECK OR PARASE THE SINGLE STRING INTO dATETIME\n"
   ]
  },
  {
   "cell_type": "code",
   "execution_count": 139,
   "id": "6f7ddb71-d530-4b8f-91a1-94be7d616e8d",
   "metadata": {},
   "outputs": [
    {
     "name": "stdout",
     "output_type": "stream",
     "text": [
      "<class 'pandas.core.frame.DataFrame'>\n",
      "RangeIndex: 3044 entries, 0 to 3043\n",
      "Data columns (total 10 columns):\n",
      " #   Column             Non-Null Count  Dtype \n",
      "---  ------             --------------  ----- \n",
      " 0   Sr No              3044 non-null   int64 \n",
      " 1   Date dd/mm/yyyy    3044 non-null   object\n",
      " 2   Startup Name       3044 non-null   object\n",
      " 3   Industry Vertical  2873 non-null   object\n",
      " 4   SubVertical        2108 non-null   object\n",
      " 5   City  Location     2864 non-null   object\n",
      " 6   Investors Name     3020 non-null   object\n",
      " 7   InvestmentnType    3040 non-null   object\n",
      " 8   Amount in USD      2084 non-null   object\n",
      " 9   Remarks            419 non-null    object\n",
      "dtypes: int64(1), object(9)\n",
      "memory usage: 237.9+ KB\n"
     ]
    }
   ],
   "source": [
    "df.info()"
   ]
  },
  {
   "cell_type": "markdown",
   "id": "743002a3-fc3a-4b3f-a579-42ce28cfaa01",
   "metadata": {},
   "source": [
    "### 1752 should be  need to be correct format  "
   ]
  },
  {
   "cell_type": "code",
   "execution_count": 140,
   "id": "8bf10666-9dc2-4e79-a40e-ee19af39396d",
   "metadata": {},
   "outputs": [
    {
     "data": {
      "text/plain": [
       "np.int64(1752)"
      ]
     },
     "execution_count": 140,
     "metadata": {},
     "output_type": "execute_result"
    }
   ],
   "source": [
    "df[\"Date dd/mm/yyyy\"]=pd.to_datetime(df[\"Date dd/mm/yyyy\"],errors=\"coerce\")\n",
    "df[\"Date dd/mm/yyyy\"].isna().sum()"
   ]
  },
  {
   "cell_type": "code",
   "execution_count": 201,
   "id": "f6cf4903-3e66-4e20-a30e-7c1a0b42c178",
   "metadata": {},
   "outputs": [],
   "source": [
    "### 1t method for checking te which re not in  proper formt\n",
    "       "
   ]
  },
  {
   "cell_type": "code",
   "execution_count": 142,
   "id": "b4b8e418-066f-4707-813c-c9ee22f5fc66",
   "metadata": {},
   "outputs": [
    {
     "data": {
      "text/plain": [
       "np.int64(8)"
      ]
     },
     "execution_count": 142,
     "metadata": {},
     "output_type": "execute_result"
    }
   ],
   "source": [
    "df1[\"Date dd/mm/yyyy\"]=pd.to_datetime(df1[\"Date dd/mm/yyyy\"],format=\"%d/%m/%Y\",errors=\"coerce\")\n",
    "df1[\"Date dd/mm/yyyy\"].isna().sum()"
   ]
  },
  {
   "cell_type": "code",
   "execution_count": 143,
   "id": "f66f6451-d034-4daa-a358-0eacd64ef060",
   "metadata": {},
   "outputs": [
    {
     "name": "stdout",
     "output_type": "stream",
     "text": [
      "datetime64[ns]\n"
     ]
    }
   ],
   "source": [
    "print(df1[\"Date dd/mm/yyyy\"].dtype)"
   ]
  },
  {
   "cell_type": "code",
   "execution_count": null,
   "id": "4a389824-528f-459f-80cc-5368a91d5cc4",
   "metadata": {},
   "outputs": [],
   "source": []
  },
  {
   "cell_type": "markdown",
   "id": "d1a50559-2d0f-4db4-b27b-69c9b0b4733f",
   "metadata": {},
   "source": [
    "#### Duplicate Rows: Are there any duplicate rows in the dataset? If so, how many?\n",
    "#### ANSWER : There is no duplicate rows in the df\n"
   ]
  },
  {
   "cell_type": "code",
   "execution_count": 145,
   "id": "92c88238-bfef-4823-a5d7-4c42bb570b18",
   "metadata": {},
   "outputs": [
    {
     "data": {
      "text/plain": [
       "np.int64(0)"
      ]
     },
     "execution_count": 145,
     "metadata": {},
     "output_type": "execute_result"
    }
   ],
   "source": [
    "df1.duplicated().sum()"
   ]
  },
  {
   "cell_type": "markdown",
   "id": "36abb7d4-1b00-42df-a7d8-03a1607db00d",
   "metadata": {},
   "source": [
    "#### Average Funding Amount: Calculate the average funding amount across all startups. How does this vary by industry vertical?\n",
    "#### Answer : first converting the df[\"Amount in USD\"] column in int or float  cause there  are  no numeric values which supposed to  fet removed or fill with 0 for further calculation.\n",
    "#### 1)  I firstly try to remove the \",\" using .str.replace \n",
    "#### 2) Then  convert it to  numeric  and  fill thr NaN with 0 for further operation i  would have removed itbut  i prefer to fill it with zero or mean \n",
    "#### 3) change the  datatype to  float to avoid theerror as  58.76 is not  converted in int  "
   ]
  },
  {
   "cell_type": "code",
   "execution_count": null,
   "id": "373cfac6-574d-4d0c-9515-49bad9fff308",
   "metadata": {},
   "outputs": [],
   "source": []
  },
  {
   "cell_type": "markdown",
   "id": "070921ec-3215-4110-98ad-109eb83e0e03",
   "metadata": {},
   "source": [
    "##### Average Funding Amount: Calculate the average funding amount across all startups. How does this vary by industry vertical?"
   ]
  },
  {
   "cell_type": "code",
   "execution_count": 207,
   "id": "720655a8-3a0d-4402-a046-f57ff3146a63",
   "metadata": {},
   "outputs": [
    {
     "data": {
      "text/plain": [
       "0       200000000.0\n",
       "1         8048394.0\n",
       "2        18358860.0\n",
       "3         3000000.0\n",
       "4         1800000.0\n",
       "           ...     \n",
       "3039      4500000.0\n",
       "3040       825000.0\n",
       "3041      1500000.0\n",
       "3042            0.0\n",
       "3043       140000.0\n",
       "Name: Amount in USD, Length: 3044, dtype: float64"
      ]
     },
     "execution_count": 207,
     "metadata": {},
     "output_type": "execute_result"
    }
   ],
   "source": [
    "df1[\"Amount in USD\"] = df1[\"Amount in USD\"].replace(\",\", \"\")\n",
    "## i  previoulsly convert the dtat into string thats why not using .stsr here as in previous code i runned the code(( df1[\"Amount in USD\"] = df1[\"Amount in USD\"].str.replace(\",\", \"\")\n",
    "df1[\"Amount in USD\"] = pd.to_numeric(df1[\"Amount in USD\"], errors='coerce')\n",
    "df1[\"Amount in USD\"] = df1[\"Amount in USD\"].astype(float)\n",
    "df1[\"Amount in USD\"]"
   ]
  },
  {
   "cell_type": "code",
   "execution_count": 210,
   "id": "1fb97f79-021c-497c-8686-4839dbe016c3",
   "metadata": {},
   "outputs": [
    {
     "data": {
      "image/png": "[encoded data removed]",
      "text/plain": [
       "<Figure size 640x480 with 1 Axes>"
      ]
     },
     "metadata": {},
     "output_type": "display_data"
    }
   ],
   "source": [
    "average_funding_by_IV=(df1.groupby(\"Industry Vertical\")[\"Amount in USD\"].mean().reset_index()).sort_values(by=\"Amount in USD\",ascending=False).head(5).plot(kind=\"bar\",x=\"Industry Vertical\",y=\"Amount in USD\")\n",
    "\n"
   ]
  },
  {
   "cell_type": "code",
   "execution_count": null,
   "id": "ee747b20-b265-441a-8705-00a96c26139a",
   "metadata": {},
   "outputs": [],
   "source": []
  },
  {
   "cell_type": "markdown",
   "id": "e3f36fd3-65d8-4572-b95a-424503e59e6e",
   "metadata": {},
   "source": [
    "### Medium Questions\n",
    "##### Outlier Detection: Identify outliers in the \"Amount in USD\" column using the IQR method. How many outliers are detected, and what are their values?"
   ]
  },
  {
   "cell_type": "code",
   "execution_count": 152,
   "id": "a317655e-35cd-4bcb-b28c-4f995fae8985",
   "metadata": {},
   "outputs": [
    {
     "name": "stdout",
     "output_type": "stream",
     "text": [
      "0.0\n",
      "500000.0\n",
      "4000000.0\n"
     ]
    }
   ],
   "source": [
    "Q1 =  df1[\"Amount in USD\"].quantile(0.25)\n",
    "Q2 = df1[\"Amount in USD\"].quantile(0.50)  \n",
    "Q3 = df1[\"Amount in USD\"].quantile(0.75) \n",
    "print(Q1)\n",
    "print(Q2)\n",
    "print(Q3)"
   ]
  },
  {
   "cell_type": "code",
   "execution_count": 153,
   "id": "626f36e1-57b9-42b9-b7c0-182468deecee",
   "metadata": {},
   "outputs": [
    {
     "name": "stdout",
     "output_type": "stream",
     "text": [
      "4000000.0\n"
     ]
    }
   ],
   "source": [
    "IQR=Q3-Q1\n",
    "print(IQR)"
   ]
  },
  {
   "cell_type": "code",
   "execution_count": 154,
   "id": "43b00f7d-8024-4d4c-bd7e-e082893b06db",
   "metadata": {},
   "outputs": [
    {
     "name": "stdout",
     "output_type": "stream",
     "text": [
      "-6000000.0\n",
      "10000000.0\n"
     ]
    }
   ],
   "source": [
    "Lower_boundry=Q1-1.5*IQR\n",
    "Upper_boundry=Q3+1.5*IQR\n",
    "print(Lower_boundry)\n",
    "print(Upper_boundry)"
   ]
  },
  {
   "cell_type": "code",
   "execution_count": 155,
   "id": "209c09ec-134e-4289-863c-deb74bb8a4ce",
   "metadata": {},
   "outputs": [],
   "source": [
    "#### Here the lower boundry  of funds came to be negative which is not likely acceptable so here  we have to take 0 as lower bopundry"
   ]
  },
  {
   "cell_type": "code",
   "execution_count": 156,
   "id": "36711706-7373-4b30-9f38-675f1c33e42c",
   "metadata": {},
   "outputs": [
    {
     "name": "stdout",
     "output_type": "stream",
     "text": [
      "0\n",
      "10000000.0\n"
     ]
    }
   ],
   "source": [
    "Lower_boundry=0\n",
    "Upper_boundry=Q3+1.5*IQR\n",
    "print(Lower_boundry)\n",
    "print(Upper_boundry)"
   ]
  },
  {
   "cell_type": "code",
   "execution_count": null,
   "id": "f2582023-c7a2-45ca-acea-20710ba3d4d7",
   "metadata": {},
   "outputs": [],
   "source": []
  },
  {
   "cell_type": "code",
   "execution_count": 217,
   "id": "1708360f-836f-495b-9c76-85f334ad74de",
   "metadata": {},
   "outputs": [
    {
     "data": {
      "text/plain": [
       "<Axes: >"
      ]
     },
     "execution_count": 217,
     "metadata": {},
     "output_type": "execute_result"
    },
    {
     "data": {
      "image/png": "[encoded data removed]",
      "text/plain": [
       "<Figure size 640x480 with 1 Axes>"
      ]
     },
     "metadata": {},
     "output_type": "display_data"
    }
   ],
   "source": [
    "# Outlier=df1[df1[\"Amount in USD\"]<Lower_boundry | df1[\"Amount in USD\"]>Upper_boundry]\n",
    "outliers = df1[(df1[\"Amount in USD\"] < Lower_boundry)| (df1[\"Amount in USD\"] > Upper_boundry)]\n",
    "outliers.plot(kind=\"box\")"
   ]
  },
  {
   "cell_type": "code",
   "execution_count": 158,
   "id": "372ea959-9f34-4f97-887d-e3e09d7cec2b",
   "metadata": {},
   "outputs": [
    {
     "data": {
      "text/plain": [
       "428"
      ]
     },
     "execution_count": 158,
     "metadata": {},
     "output_type": "execute_result"
    }
   ],
   "source": [
    "len(outliers)"
   ]
  },
  {
   "cell_type": "code",
   "execution_count": 159,
   "id": "60e7a19e-784e-45be-9ab0-a2184c557e86",
   "metadata": {},
   "outputs": [
    {
     "data": {
      "image/png": "[encoded data removed]",
      "text/plain": [
       "<Figure size 640x480 with 1 Axes>"
      ]
     },
     "metadata": {},
     "output_type": "display_data"
    }
   ],
   "source": [
    "sns.boxplot(data=outliers,color=\"red\")\n",
    "plt.ylabel(\"Outliers by Amt in USD\")\n",
    "plt.title(\"Outliers by Amount invested in startups\")\n",
    "plt.show()"
   ]
  },
  {
   "cell_type": "markdown",
   "id": "4b5a9c4e-6e25-42fe-882e-a2fadc9211ff",
   "metadata": {},
   "source": [
    "##### HERE THE OUTLIER REPRENSTED AS o AND THE RED BOX STATING THE  INQUARTILE RANGE AND DATA WITHIN WHICH IS HERE  IS ZERO AS NOW WE ARE ONLY WANT THE OUTLIERS"
   ]
  },
  {
   "cell_type": "markdown",
   "id": "d1bb3499-9209-4175-b738-4dae875b4549",
   "metadata": {},
   "source": [
    "#### |Unique Industry Vertical Count: How many unique industry verticals are present in the dataset?"
   ]
  },
  {
   "cell_type": "code",
   "execution_count": 160,
   "id": "fe6a0092-529b-4837-9298-a97f038166db",
   "metadata": {},
   "outputs": [
    {
     "data": {
      "text/plain": [
       "822"
      ]
     },
     "execution_count": 160,
     "metadata": {},
     "output_type": "execute_result"
    }
   ],
   "source": [
    "unique=df1[\"Industry Vertical\"].unique()\n",
    "len(unique)"
   ]
  },
  {
   "cell_type": "markdown",
   "id": "48f51f81-f7c5-4ded-afc0-fa394d63825b",
   "metadata": {},
   "source": [
    "#### Investment Type Distribution: What is the distribution of different investment types (e.g., seed funding, series A, etc.)?"
   ]
  },
  {
   "cell_type": "code",
   "execution_count": 229,
   "id": "a92adf47-0a87-4671-acd4-ba377e6fecd6",
   "metadata": {},
   "outputs": [
    {
     "data": {
      "text/html": [
       "<div>\n",
       "<style scoped>\n",
       "    .dataframe tbody tr th:only-of-type {\n",
       "        vertical-align: middle;\n",
       "    }\n",
       "\n",
       "    .dataframe tbody tr th {\n",
       "        vertical-align: top;\n",
       "    }\n",
       "\n",
       "    .dataframe thead th {\n",
       "        text-align: right;\n",
       "    }\n",
       "</style>\n",
       "<table border=\"1\" class=\"dataframe\">\n",
       "  <thead>\n",
       "    <tr style=\"text-align: right;\">\n",
       "      <th></th>\n",
       "      <th>InvestmentnType</th>\n",
       "      <th>No of investment</th>\n",
       "    </tr>\n",
       "  </thead>\n",
       "  <tbody>\n",
       "    <tr>\n",
       "      <th>23</th>\n",
       "      <td>Seed Funding</td>\n",
       "      <td>1542</td>\n",
       "    </tr>\n",
       "    <tr>\n",
       "      <th>18</th>\n",
       "      <td>Private Equity</td>\n",
       "      <td>1356</td>\n",
       "    </tr>\n",
       "    <tr>\n",
       "      <th>5</th>\n",
       "      <td>Debt Funding</td>\n",
       "      <td>25</td>\n",
       "    </tr>\n",
       "  </tbody>\n",
       "</table>\n",
       "</div>"
      ],
      "text/plain": [
       "   InvestmentnType  No of investment\n",
       "23    Seed Funding              1542\n",
       "18  Private Equity              1356\n",
       "5     Debt Funding                25"
      ]
     },
     "execution_count": 229,
     "metadata": {},
     "output_type": "execute_result"
    }
   ],
   "source": [
    "df1[\"InvestmentnType\"]=df1[\"InvestmentnType\"].str.replace(r\".*Seed.*\", \"Seed Funding\", regex=True)\n",
    "df1[\"InvestmentnType\"]=df1[\"InvestmentnType\"].str.replace(r\".*Angel.*\", \"Seed Funding\", regex=True)\n",
    "# df1[\"City  Location\"]=df1[\"City  Location\"].str.replace(r\".*Mumbai.*\", \"Mumbai\", regex=True)\n",
    "\n",
    "\n",
    "Invest_dist=df1.groupby(\"InvestmentnType\")[\"InvestmentnType\"].count().reset_index(name=\"No of investment\")\n",
    "Invest_dist=Invest_dist.sort_values(by=\"No of investment\",ascending=False)\n",
    "Invest_dist_top3=Invest_dist.head(3)\n",
    "Invest_dist_top3"
   ]
  },
  {
   "cell_type": "code",
   "execution_count": 230,
   "id": "92248215-7441-4ace-8f62-3ad8c0e77b15",
   "metadata": {},
   "outputs": [
    {
     "data": {
      "image/png": "[encoded data removed]",
      "text/plain": [
       "<Figure size 640x480 with 1 Axes>"
      ]
     },
     "metadata": {},
     "output_type": "display_data"
    }
   ],
   "source": [
    "label=Invest_dist_top3[\"InvestmentnType\"]\n",
    "sizes=Invest_dist_top3[\"No of investment\"]\n",
    "plt.pie(sizes, labels=label, autopct='%1.2f%%', startangle=130)\n",
    "plt.title(\"The distribution of Investment Type\")\n",
    "plt.show()"
   ]
  },
  {
   "cell_type": "markdown",
   "id": "698d6c5a-de82-42e1-be68-68ea458800d1",
   "metadata": {},
   "source": [
    "#### City Location Frequency: Which city has the highest number of startup fundings, and how many are there?\n",
    "\n",
    "#### Visualization: Use a bar chart to represent the number of startups per City Location."
   ]
  },
  {
   "cell_type": "code",
   "execution_count": 232,
   "id": "839b4046-c230-4457-bab1-84581bed6396",
   "metadata": {},
   "outputs": [],
   "source": [
    "df1[\"City  Location\"]=df1[\"City  Location\"].str.replace(r\".*New Delhi.*\", \"New Delhi\", regex=True)\n",
    "df1[\"City  Location\"]=df1[\"City  Location\"].str.replace(r\".*Mumbai.*\", \"Mumbai\", regex=True)\n",
    "df1[\"City  Location\"]=df1[\"City  Location\"].str.replace(\"Bengaluru\", \"Bangalore\", regex=True)\n",
    "df1[\"Industry Vertical\"]=df1[\"Industry Vertical\"].str.replace(\"eCommerce\", \"ECommerce\", regex=True)\n"
   ]
  },
  {
   "cell_type": "code",
   "execution_count": 239,
   "id": "f3f26d45-b2f7-4ad3-bfb4-f1a6f663f241",
   "metadata": {},
   "outputs": [
    {
     "data": {
      "text/html": [
       "<div>\n",
       "<style scoped>\n",
       "    .dataframe tbody tr th:only-of-type {\n",
       "        vertical-align: middle;\n",
       "    }\n",
       "\n",
       "    .dataframe tbody tr th {\n",
       "        vertical-align: top;\n",
       "    }\n",
       "\n",
       "    .dataframe thead th {\n",
       "        text-align: right;\n",
       "    }\n",
       "</style>\n",
       "<table border=\"1\" class=\"dataframe\">\n",
       "  <thead>\n",
       "    <tr style=\"text-align: right;\">\n",
       "      <th></th>\n",
       "      <th>City  Location</th>\n",
       "      <th>total_funding</th>\n",
       "      <th>count_of_companies</th>\n",
       "    </tr>\n",
       "  </thead>\n",
       "  <tbody>\n",
       "    <tr>\n",
       "      <th>6</th>\n",
       "      <td>Bangalore</td>\n",
       "      <td>1.846017e+10</td>\n",
       "      <td>841</td>\n",
       "    </tr>\n",
       "    <tr>\n",
       "      <th>60</th>\n",
       "      <td>Mumbai</td>\n",
       "      <td>4.939225e+09</td>\n",
       "      <td>573</td>\n",
       "    </tr>\n",
       "    <tr>\n",
       "      <th>63</th>\n",
       "      <td>New Delhi</td>\n",
       "      <td>3.084817e+09</td>\n",
       "      <td>428</td>\n",
       "    </tr>\n",
       "    <tr>\n",
       "      <th>32</th>\n",
       "      <td>Gurgaon</td>\n",
       "      <td>3.005296e+09</td>\n",
       "      <td>287</td>\n",
       "    </tr>\n",
       "    <tr>\n",
       "      <th>72</th>\n",
       "      <td>Pune</td>\n",
       "      <td>6.330820e+08</td>\n",
       "      <td>105</td>\n",
       "    </tr>\n",
       "  </tbody>\n",
       "</table>\n",
       "</div>"
      ],
      "text/plain": [
       "   City  Location  total_funding  count_of_companies\n",
       "6       Bangalore   1.846017e+10                 841\n",
       "60         Mumbai   4.939225e+09                 573\n",
       "63      New Delhi   3.084817e+09                 428\n",
       "32        Gurgaon   3.005296e+09                 287\n",
       "72           Pune   6.330820e+08                 105"
      ]
     },
     "execution_count": 239,
     "metadata": {},
     "output_type": "execute_result"
    }
   ],
   "source": [
    "CLF=(df1.groupby(\"City  Location\")[\"Amount in USD\"].agg(total_funding=\"sum\", count_of_companies=\"size\").reset_index())\n",
    "CLF=CLF.sort_values(by=\"count_of_companies\",ascending=False)\n",
    "CLF=CLF.head()\n",
    "CLF"
   ]
  },
  {
   "cell_type": "code",
   "execution_count": 240,
   "id": "26c05ec1-324e-4b28-88e1-7c5ad5a228fe",
   "metadata": {},
   "outputs": [
    {
     "data": {
      "image/png": "[encoded data removed]",
      "text/plain": [
       "<Figure size 640x480 with 1 Axes>"
      ]
     },
     "metadata": {},
     "output_type": "display_data"
    }
   ],
   "source": [
    "sns.barplot(data=CLF, x=\"City  Location\",y=\"count_of_companies\")\n",
    "plt.title(\"the number of startups per City Location.\")\n",
    "plt.show()"
   ]
  },
  {
   "cell_type": "markdown",
   "id": "033b4520-d135-4042-9386-89386bd0c830",
   "metadata": {},
   "source": [
    "#### Funding Trends Over Time: Analyze the trend of startup funding over the years. Is there a noticeable increase or decrease in total funding?\n",
    "\n",
    "### Visualization: Use a line chart to show total funding amounts by year."
   ]
  },
  {
   "cell_type": "code",
   "execution_count": 170,
   "id": "1e2521b2-7457-40be-9a45-cd9b8ce398ca",
   "metadata": {},
   "outputs": [],
   "source": [
    "df1['Year'] = df1[\"Date dd/mm/yyyy\"].dt.year\n"
   ]
  },
  {
   "cell_type": "code",
   "execution_count": 171,
   "id": "2a2a0254-00a6-4bee-b1ee-9533affeabfd",
   "metadata": {},
   "outputs": [
    {
     "data": {
      "text/html": [
       "<div>\n",
       "<style scoped>\n",
       "    .dataframe tbody tr th:only-of-type {\n",
       "        vertical-align: middle;\n",
       "    }\n",
       "\n",
       "    .dataframe tbody tr th {\n",
       "        vertical-align: top;\n",
       "    }\n",
       "\n",
       "    .dataframe thead th {\n",
       "        text-align: right;\n",
       "    }\n",
       "</style>\n",
       "<table border=\"1\" class=\"dataframe\">\n",
       "  <thead>\n",
       "    <tr style=\"text-align: right;\">\n",
       "      <th></th>\n",
       "      <th>Year</th>\n",
       "      <th>Amount in USD</th>\n",
       "    </tr>\n",
       "  </thead>\n",
       "  <tbody>\n",
       "    <tr>\n",
       "      <th>0</th>\n",
       "      <td>2015.0</td>\n",
       "      <td>8.597207e+09</td>\n",
       "    </tr>\n",
       "    <tr>\n",
       "      <th>1</th>\n",
       "      <td>2016.0</td>\n",
       "      <td>3.828089e+09</td>\n",
       "    </tr>\n",
       "    <tr>\n",
       "      <th>2</th>\n",
       "      <td>2017.0</td>\n",
       "      <td>1.042931e+10</td>\n",
       "    </tr>\n",
       "    <tr>\n",
       "      <th>3</th>\n",
       "      <td>2018.0</td>\n",
       "      <td>5.116118e+09</td>\n",
       "    </tr>\n",
       "    <tr>\n",
       "      <th>4</th>\n",
       "      <td>2019.0</td>\n",
       "      <td>9.686577e+09</td>\n",
       "    </tr>\n",
       "    <tr>\n",
       "      <th>5</th>\n",
       "      <td>2020.0</td>\n",
       "      <td>3.902073e+08</td>\n",
       "    </tr>\n",
       "  </tbody>\n",
       "</table>\n",
       "</div>"
      ],
      "text/plain": [
       "     Year  Amount in USD\n",
       "0  2015.0   8.597207e+09\n",
       "1  2016.0   3.828089e+09\n",
       "2  2017.0   1.042931e+10\n",
       "3  2018.0   5.116118e+09\n",
       "4  2019.0   9.686577e+09\n",
       "5  2020.0   3.902073e+08"
      ]
     },
     "execution_count": 171,
     "metadata": {},
     "output_type": "execute_result"
    }
   ],
   "source": [
    "FTOT=df1.groupby(\"Year\")[\"Amount in USD\"].sum().reset_index()\n",
    "FTOT"
   ]
  },
  {
   "cell_type": "code",
   "execution_count": 172,
   "id": "84200781-31ce-4c2c-a0d5-ce80e7182940",
   "metadata": {},
   "outputs": [
    {
     "data": {
      "image/png": "[encoded data removed]",
      "text/plain": [
       "<Figure size 640x480 with 1 Axes>"
      ]
     },
     "metadata": {},
     "output_type": "display_data"
    }
   ],
   "source": [
    "sns.lineplot(data=FTOT,x=\"Year\",y=\"Amount in USD\",marker=\"o\",color=\"red\")\n",
    "plt.title(\"total funding amounts by year\")\n",
    "plt.show()"
   ]
  },
  {
   "cell_type": "markdown",
   "id": "39028ebc-b8ca-4693-89bd-af1be1104ccb",
   "metadata": {},
   "source": [
    "#### From this trend, we can say that there is a gradual decrease in the year 2020, which we can assume was caused by COVID."
   ]
  },
  {
   "cell_type": "markdown",
   "id": "7955bae6-638f-48e6-981c-0f0f0e12d252",
   "metadata": {},
   "source": [
    "## HARD"
   ]
  },
  {
   "cell_type": "markdown",
   "id": "2c391a57-1f58-46df-b262-393cad3c57f5",
   "metadata": {},
   "source": [
    "#### 1`)Correlation Analysis: Is there a correlation between the amount of investment and the industry vertical? What insights can be derived from this correlation?\n",
    "\n",
    "##### Visualization: Use a heatmap to visualize the correlation between Amount in USD and Industry Vertical."
   ]
  },
  {
   "cell_type": "markdown",
   "id": "640370e5-3dbd-434c-8bbd-a44fcf24fe40",
   "metadata": {},
   "source": [
    "##### as we wabnt a corelation between categorical ab=nd the numerical  it  would not be posssib;e easily  gives us error so firsy=t we need to  convery the catergorical values it=n numeric which is done by label encoder module in scipy "
   ]
  },
  {
   "cell_type": "code",
   "execution_count": 173,
   "id": "eabf9e00-70af-4aaa-a4c3-851e2a967f8d",
   "metadata": {},
   "outputs": [
    {
     "name": "stdout",
     "output_type": "stream",
     "text": [
      "Requirement already satisfied: scikit-learn in c:\\users\\saga\\appdata\\local\\programs\\python\\python313\\lib\\site-packages (1.6.1)Note: you may need to restart the kernel to use updated packages.\n",
      "\n",
      "Requirement already satisfied: numpy>=1.19.5 in c:\\users\\saga\\appdata\\local\\programs\\python\\python313\\lib\\site-packages (from scikit-learn) (2.2.1)\n",
      "Requirement already satisfied: scipy>=1.6.0 in c:\\users\\saga\\appdata\\local\\programs\\python\\python313\\lib\\site-packages (from scikit-learn) (1.15.1)\n",
      "Requirement already satisfied: joblib>=1.2.0 in c:\\users\\saga\\appdata\\local\\programs\\python\\python313\\lib\\site-packages (from scikit-learn) (1.4.2)\n",
      "Requirement already satisfied: threadpoolctl>=3.1.0 in c:\\users\\saga\\appdata\\local\\programs\\python\\python313\\lib\\site-packages (from scikit-learn) (3.5.0)\n"
     ]
    }
   ],
   "source": [
    "pip install scikit-learn"
   ]
  },
  {
   "cell_type": "code",
   "execution_count": 174,
   "id": "cb6b1e6b-5344-446f-a022-090ce287ff21",
   "metadata": {},
   "outputs": [
    {
     "data": {
      "text/plain": [
       "0       171\n",
       "1       730\n",
       "2       172\n",
       "3       237\n",
       "4       232\n",
       "       ... \n",
       "3039    820\n",
       "3040    820\n",
       "3041    820\n",
       "3042    820\n",
       "3043    820\n",
       "Name: Industry Verticals codes, Length: 3044, dtype: int64"
      ]
     },
     "execution_count": 174,
     "metadata": {},
     "output_type": "execute_result"
    }
   ],
   "source": [
    "from sklearn.preprocessing import LabelEncoder\n",
    "label=LabelEncoder()\n",
    "df1[\"Industry Verticals codes\"]= label.fit_transform(df1[\"Industry Vertical\"])\n",
    "df1[\"Industry Verticals codes\"]"
   ]
  },
  {
   "cell_type": "code",
   "execution_count": 175,
   "id": "437684ce-c893-4f85-b574-c8e017393d44",
   "metadata": {},
   "outputs": [
    {
     "data": {
      "text/html": [
       "<div>\n",
       "<style scoped>\n",
       "    .dataframe tbody tr th:only-of-type {\n",
       "        vertical-align: middle;\n",
       "    }\n",
       "\n",
       "    .dataframe tbody tr th {\n",
       "        vertical-align: top;\n",
       "    }\n",
       "\n",
       "    .dataframe thead th {\n",
       "        text-align: right;\n",
       "    }\n",
       "</style>\n",
       "<table border=\"1\" class=\"dataframe\">\n",
       "  <thead>\n",
       "    <tr style=\"text-align: right;\">\n",
       "      <th></th>\n",
       "      <th>Amount in USD</th>\n",
       "      <th>Industry Verticals codes</th>\n",
       "    </tr>\n",
       "  </thead>\n",
       "  <tbody>\n",
       "    <tr>\n",
       "      <th>Amount in USD</th>\n",
       "      <td>1.000000</td>\n",
       "      <td>-0.016258</td>\n",
       "    </tr>\n",
       "    <tr>\n",
       "      <th>Industry Verticals codes</th>\n",
       "      <td>-0.016258</td>\n",
       "      <td>1.000000</td>\n",
       "    </tr>\n",
       "  </tbody>\n",
       "</table>\n",
       "</div>"
      ],
      "text/plain": [
       "                          Amount in USD  Industry Verticals codes\n",
       "Amount in USD                  1.000000                 -0.016258\n",
       "Industry Verticals codes      -0.016258                  1.000000"
      ]
     },
     "execution_count": 175,
     "metadata": {},
     "output_type": "execute_result"
    }
   ],
   "source": [
    "corr=df1[[\"Amount in USD\",\"Industry Verticals codes\"]].corr()\n",
    "corr"
   ]
  },
  {
   "cell_type": "code",
   "execution_count": 176,
   "id": "1b9574ba-306d-45b5-853b-634c4619ca50",
   "metadata": {},
   "outputs": [
    {
     "data": {
      "image/png": "[encoded data removed]",
      "text/plain": [
       "<Figure size 800x600 with 2 Axes>"
      ]
     },
     "metadata": {},
     "output_type": "display_data"
    }
   ],
   "source": [
    "plt.figure(figsize=(8, 6))\n",
    "sns.heatmap(corr, annot=True, cmap='coolwarm', fmt='.5f', linewidths=1)\n",
    "plt.title(\"The correlation between Amount in USD and Industry Vertical\")\n",
    "plt.show()"
   ]
  },
  {
   "cell_type": "markdown",
   "id": "ba027ab7-e99b-4ca5-8913-0140b46cb1f6",
   "metadata": {},
   "source": [
    "###  from this  we can determine that the industry verticals and anmount for invstment negatively corelated with eachother "
   ]
  },
  {
   "cell_type": "markdown",
   "id": "66096d60-ec8a-467b-b925-aca382c69fc1",
   "metadata": {},
   "source": [
    "#### 2)Investor Analysis: Which investor has made the most investments, and what is the total amount they have invested?\n",
    "\n",
    "#### Visualization: Use a bar chart to show the total investment amount by Investors Name."
   ]
  },
  {
   "cell_type": "code",
   "execution_count": 243,
   "id": "57319f63-f4dc-4295-9b58-ffcc8c55c7fd",
   "metadata": {},
   "outputs": [
    {
     "data": {
      "text/html": [
       "<div>\n",
       "<style scoped>\n",
       "    .dataframe tbody tr th:only-of-type {\n",
       "        vertical-align: middle;\n",
       "    }\n",
       "\n",
       "    .dataframe tbody tr th {\n",
       "        vertical-align: top;\n",
       "    }\n",
       "\n",
       "    .dataframe thead th {\n",
       "        text-align: right;\n",
       "    }\n",
       "</style>\n",
       "<table border=\"1\" class=\"dataframe\">\n",
       "  <thead>\n",
       "    <tr style=\"text-align: right;\">\n",
       "      <th></th>\n",
       "      <th>Investors Name</th>\n",
       "      <th>Amount in USD</th>\n",
       "    </tr>\n",
       "  </thead>\n",
       "  <tbody>\n",
       "    <tr>\n",
       "      <th>2321</th>\n",
       "      <td>Westbridge Capital</td>\n",
       "      <td>3.900000e+09</td>\n",
       "    </tr>\n",
       "    <tr>\n",
       "      <th>1949</th>\n",
       "      <td>Softbank</td>\n",
       "      <td>2.500000e+09</td>\n",
       "    </tr>\n",
       "    <tr>\n",
       "      <th>1940</th>\n",
       "      <td>SoftBank Group</td>\n",
       "      <td>1.462000e+09</td>\n",
       "    </tr>\n",
       "    <tr>\n",
       "      <th>1292</th>\n",
       "      <td>Microsoft, eBay, Tencent Holdings</td>\n",
       "      <td>1.400000e+09</td>\n",
       "    </tr>\n",
       "    <tr>\n",
       "      <th>2271</th>\n",
       "      <td>Vijay Shekhar Sharma</td>\n",
       "      <td>1.000150e+09</td>\n",
       "    </tr>\n",
       "  </tbody>\n",
       "</table>\n",
       "</div>"
      ],
      "text/plain": [
       "                         Investors Name  Amount in USD\n",
       "2321                 Westbridge Capital   3.900000e+09\n",
       "1949                           Softbank   2.500000e+09\n",
       "1940                     SoftBank Group   1.462000e+09\n",
       "1292  Microsoft, eBay, Tencent Holdings   1.400000e+09\n",
       "2271               Vijay Shekhar Sharma   1.000150e+09"
      ]
     },
     "execution_count": 243,
     "metadata": {},
     "output_type": "execute_result"
    }
   ],
   "source": [
    "most_invester=df1.groupby(\"Investors Name\")[\"Amount in USD\"].sum().reset_index()\n",
    "most_invester=most_invester.sort_values(by=\"Amount in USD\",ascending=False)\n",
    "most_invester=most_invester.head()\n",
    "most_invester"
   ]
  },
  {
   "cell_type": "markdown",
   "id": "fe334f05-bb65-41f5-a931-398b2ca2c776",
   "metadata": {},
   "source": [
    "### for the seein the most investor did investment  we will take 1st top 10 investor "
   ]
  },
  {
   "cell_type": "code",
   "execution_count": null,
   "id": "8ec23006-261c-4400-8a24-064e7a9ae33c",
   "metadata": {},
   "outputs": [],
   "source": []
  },
  {
   "cell_type": "code",
   "execution_count": 244,
   "id": "16362ab0-c35e-44d2-bac4-30e311c0bfa2",
   "metadata": {},
   "outputs": [
    {
     "data": {
      "image/png": "[encoded data removed]",
      "text/plain": [
       "<Figure size 640x480 with 1 Axes>"
      ]
     },
     "metadata": {},
     "output_type": "display_data"
    }
   ],
   "source": [
    "sns.barplot(data=most_invester,x=\"Investors Name\",y=\"Amount in USD\")\n",
    "plt.title(\"the total investment amount by Investors Name\")\n",
    "plt.xticks(rotation=90)\n",
    "plt.show()"
   ]
  },
  {
   "cell_type": "markdown",
   "id": "cc7ba178-20a6-4a2c-9a89-7d871245a9ae",
   "metadata": {},
   "source": [
    "### the westbridge capital is the invester which made most investment of 3.900000e+09 "
   ]
  },
  {
   "cell_type": "markdown",
   "id": "2e1784d7-7534-47f1-9e89-cfd0e3e12ed2",
   "metadata": {},
   "source": [
    "#### 3)Funding Amount Variability: How does the variability (standard deviation) of funding amounts differ across various industry verticals?\n",
    "\n",
    "#### Visualization: Use a bar chart to display the standard deviation of funding amounts by Industry Vertical."
   ]
  },
  {
   "cell_type": "code",
   "execution_count": 180,
   "id": "cc04f3bd-0db3-40bf-bf48-4a5ff1917a4a",
   "metadata": {},
   "outputs": [
    {
     "data": {
      "text/html": [
       "<div>\n",
       "<style scoped>\n",
       "    .dataframe tbody tr th:only-of-type {\n",
       "        vertical-align: middle;\n",
       "    }\n",
       "\n",
       "    .dataframe tbody tr th {\n",
       "        vertical-align: top;\n",
       "    }\n",
       "\n",
       "    .dataframe thead th {\n",
       "        text-align: right;\n",
       "    }\n",
       "</style>\n",
       "<table border=\"1\" class=\"dataframe\">\n",
       "  <thead>\n",
       "    <tr style=\"text-align: right;\">\n",
       "      <th></th>\n",
       "      <th>Industry Vertical</th>\n",
       "      <th>Amount in USD</th>\n",
       "    </tr>\n",
       "  </thead>\n",
       "  <tbody>\n",
       "    <tr>\n",
       "      <th>730</th>\n",
       "      <td>Transportation</td>\n",
       "      <td>1.947229e+09</td>\n",
       "    </tr>\n",
       "    <tr>\n",
       "      <th>535</th>\n",
       "      <td>Online Marketplace</td>\n",
       "      <td>4.948736e+08</td>\n",
       "    </tr>\n",
       "    <tr>\n",
       "      <th>35</th>\n",
       "      <td>B2B</td>\n",
       "      <td>4.122433e+08</td>\n",
       "    </tr>\n",
       "    <tr>\n",
       "      <th>237</th>\n",
       "      <td>FinTech</td>\n",
       "      <td>3.259681e+08</td>\n",
       "    </tr>\n",
       "    <tr>\n",
       "      <th>173</th>\n",
       "      <td>ECommerce</td>\n",
       "      <td>2.027583e+08</td>\n",
       "    </tr>\n",
       "    <tr>\n",
       "      <th>...</th>\n",
       "      <td>...</td>\n",
       "      <td>...</td>\n",
       "    </tr>\n",
       "    <tr>\n",
       "      <th>25</th>\n",
       "      <td>Auto</td>\n",
       "      <td>0.000000e+00</td>\n",
       "    </tr>\n",
       "    <tr>\n",
       "      <th>84</th>\n",
       "      <td>Car &amp; Bike ecommerce platform</td>\n",
       "      <td>0.000000e+00</td>\n",
       "    </tr>\n",
       "    <tr>\n",
       "      <th>282</th>\n",
       "      <td>Health &amp; Fitness App</td>\n",
       "      <td>0.000000e+00</td>\n",
       "    </tr>\n",
       "    <tr>\n",
       "      <th>516</th>\n",
       "      <td>Online Hiring Platform</td>\n",
       "      <td>0.000000e+00</td>\n",
       "    </tr>\n",
       "    <tr>\n",
       "      <th>359</th>\n",
       "      <td>Interface development platform for Government ...</td>\n",
       "      <td>0.000000e+00</td>\n",
       "    </tr>\n",
       "  </tbody>\n",
       "</table>\n",
       "<p>78 rows × 2 columns</p>\n",
       "</div>"
      ],
      "text/plain": [
       "                                     Industry Vertical  Amount in USD\n",
       "730                                     Transportation   1.947229e+09\n",
       "535                                 Online Marketplace   4.948736e+08\n",
       "35                                                 B2B   4.122433e+08\n",
       "237                                            FinTech   3.259681e+08\n",
       "173                                          ECommerce   2.027583e+08\n",
       "..                                                 ...            ...\n",
       "25                                                Auto   0.000000e+00\n",
       "84                       Car & Bike ecommerce platform   0.000000e+00\n",
       "282                               Health & Fitness App   0.000000e+00\n",
       "516                             Online Hiring Platform   0.000000e+00\n",
       "359  Interface development platform for Government ...   0.000000e+00\n",
       "\n",
       "[78 rows x 2 columns]"
      ]
     },
     "execution_count": 180,
     "metadata": {},
     "output_type": "execute_result"
    }
   ],
   "source": [
    "df1[\"Industry Vertical\"]=df1[\"Industry Vertical\"].str.replace(r\".*eCommerce\t.*\", \"ECommerce\t\", regex=True)\n",
    "\n",
    "FAV= (df1.groupby(\"Industry Vertical\")[\"Amount in USD\"].std().reset_index()).dropna().sort_values(by=\"Amount in USD\",ascending=False)\n",
    "FAV"
   ]
  },
  {
   "cell_type": "markdown",
   "id": "b96c5c0d-b280-40da-b96b-73e7e81b8a29",
   "metadata": {},
   "source": [
    "### here we got NAN  that indicatcte that there might have a one valid data point, the concept of variability does not apply.  we need to  handle NAN value to  maintain the richness of data "
   ]
  },
  {
   "cell_type": "markdown",
   "id": "db750e40-eef6-4e9d-b693-3bedadd0382d",
   "metadata": {},
   "source": [
    "#### I am dropping the NaN values or columns as they represent single values. Dropping these NaNs will not significantly affect this large dataset since we aim to calculate the standard deviation by industry vertical. Additionally, the presence of NaN indicates that these industry verticals do not have substantial or effective investments in their firms."
   ]
  },
  {
   "cell_type": "code",
   "execution_count": 181,
   "id": "536c2bb8-670f-4ee6-a6d2-f9f2114e3b63",
   "metadata": {},
   "outputs": [],
   "source": []
  },
  {
   "cell_type": "code",
   "execution_count": 245,
   "id": "3c2e00ba-e534-41b9-b6f2-fab4d2d9d8be",
   "metadata": {},
   "outputs": [],
   "source": [
    "FAV=FAV.head()"
   ]
  },
  {
   "cell_type": "code",
   "execution_count": 247,
   "id": "e0437f75-3409-4acb-8842-8d6b45964b49",
   "metadata": {},
   "outputs": [
    {
     "data": {
      "image/png": "[encoded data removed]",
      "text/plain": [
       "<Figure size 640x480 with 1 Axes>"
      ]
     },
     "metadata": {},
     "output_type": "display_data"
    }
   ],
   "source": [
    "sns.barplot(data=FAV,x=\"Industry Vertical\",y=\"Amount in USD\",color=\"green\")\n",
    "plt.title(\"the standard deviation of funding amounts by Industry Vertical.\")\n",
    "plt.xticks(rotation=60)\n",
    "plt.show()"
   ]
  },
  {
   "cell_type": "markdown",
   "id": "d3b9af07-dc59-449c-84d3-c0ef80ab33f9",
   "metadata": {},
   "source": [
    "### Let's identify which industry vertical has the largest variability in funding amounts ."
   ]
  },
  {
   "cell_type": "markdown",
   "id": "f7983e9b-c006-4286-a301-04b60efb25a6",
   "metadata": {},
   "source": [
    "#### The transportation industry vertical has high variability in funding, we can say that there is a higher likelihood of success for startups in this sector. The greater variability in funding could indicate a wider range of startups, some of which may have received significant investments, which could lead to higher chances of success for those well-funded startups. "
   ]
  },
  {
   "cell_type": "markdown",
   "id": "3075d179-f08a-4042-8f0d-f1dce3486538",
   "metadata": {},
   "source": [
    "### 4)Most Funded Industry: Identify the industry vertical that received the highest total funding. What trends can be observed?\n",
    "\n",
    "### Visualization: Use a bar chart to represent total funding amounts by Industry Vertical."
   ]
  },
  {
   "cell_type": "code",
   "execution_count": 252,
   "id": "964aec7b-d90f-470d-a9a3-c4d79b5ae317",
   "metadata": {},
   "outputs": [
    {
     "data": {
      "text/html": [
       "<div>\n",
       "<style scoped>\n",
       "    .dataframe tbody tr th:only-of-type {\n",
       "        vertical-align: middle;\n",
       "    }\n",
       "\n",
       "    .dataframe tbody tr th {\n",
       "        vertical-align: top;\n",
       "    }\n",
       "\n",
       "    .dataframe thead th {\n",
       "        text-align: right;\n",
       "    }\n",
       "</style>\n",
       "<table border=\"1\" class=\"dataframe\">\n",
       "  <thead>\n",
       "    <tr style=\"text-align: right;\">\n",
       "      <th></th>\n",
       "      <th>Industry Vertical</th>\n",
       "      <th>Amount in USD</th>\n",
       "    </tr>\n",
       "  </thead>\n",
       "  <tbody>\n",
       "    <tr>\n",
       "      <th>173</th>\n",
       "      <td>ECommerce</td>\n",
       "      <td>6.881331e+09</td>\n",
       "    </tr>\n",
       "    <tr>\n",
       "      <th>111</th>\n",
       "      <td>Consumer Internet</td>\n",
       "      <td>6.253084e+09</td>\n",
       "    </tr>\n",
       "    <tr>\n",
       "      <th>730</th>\n",
       "      <td>Transportation</td>\n",
       "      <td>3.916632e+09</td>\n",
       "    </tr>\n",
       "    <tr>\n",
       "      <th>726</th>\n",
       "      <td>Technology</td>\n",
       "      <td>2.229708e+09</td>\n",
       "    </tr>\n",
       "    <tr>\n",
       "      <th>239</th>\n",
       "      <td>Finance</td>\n",
       "      <td>1.971438e+09</td>\n",
       "    </tr>\n",
       "  </tbody>\n",
       "</table>\n",
       "</div>"
      ],
      "text/plain": [
       "     Industry Vertical  Amount in USD\n",
       "173          ECommerce   6.881331e+09\n",
       "111  Consumer Internet   6.253084e+09\n",
       "730     Transportation   3.916632e+09\n",
       "726         Technology   2.229708e+09\n",
       "239            Finance   1.971438e+09"
      ]
     },
     "execution_count": 252,
     "metadata": {},
     "output_type": "execute_result"
    }
   ],
   "source": [
    "MFI=(df1.groupby(\"Industry Vertical\")[\"Amount in USD\"].sum().reset_index()).sort_values(by=\"Amount in USD\",ascending=False)\n",
    "MFI=MFI.head()\n",
    "MFI"
   ]
  },
  {
   "cell_type": "code",
   "execution_count": 253,
   "id": "130c93d6-be57-4f69-981f-06536034f8e3",
   "metadata": {},
   "outputs": [
    {
     "data": {
      "text/plain": [
       "<Axes: xlabel='Industry Vertical'>"
      ]
     },
     "execution_count": 253,
     "metadata": {},
     "output_type": "execute_result"
    },
    {
     "data": {
      "image/png": "[encoded data removed]",
      "text/plain": [
       "<Figure size 640x480 with 1 Axes>"
      ]
     },
     "metadata": {},
     "output_type": "display_data"
    }
   ],
   "source": [
    "MFI.plot(kind=\"bar\",x=\"Industry Vertical\",y=\"Amount in USD\")\n"
   ]
  },
  {
   "cell_type": "code",
   "execution_count": null,
   "id": "09f0e3f2-72b2-47dc-ad71-5de267d4f57b",
   "metadata": {},
   "outputs": [],
   "source": []
  },
  {
   "cell_type": "markdown",
   "id": "4f507a57-1fbd-4379-a2c1-c4b9d6db0fe1",
   "metadata": {},
   "source": [
    "#### 5)Comparative Analysis: How do funding amounts differ between different cities and industry verticals? Are certain cities or industries more lucrative?\n",
    "\n",
    "#### Visualization: Use a heatmap or grouped bar chart to compare funding amounts across City Location and Industry Vertical."
   ]
  },
  {
   "cell_type": "code",
   "execution_count": 191,
   "id": "809a3b4f-cbab-4f97-b047-46c3de3c08b3",
   "metadata": {},
   "outputs": [
    {
     "data": {
      "text/plain": [
       "Index(['Sr No', 'Date dd/mm/yyyy', 'Startup Name', 'Industry Vertical',\n",
       "       'SubVertical', 'City  Location', 'Investors Name', 'InvestmentnType',\n",
       "       'Amount in USD', 'Remarks', 'Correct_dates', 'Year',\n",
       "       'Industry Verticals codes'],\n",
       "      dtype='object')"
      ]
     },
     "execution_count": 191,
     "metadata": {},
     "output_type": "execute_result"
    }
   ],
   "source": [
    "df1.columns"
   ]
  },
  {
   "cell_type": "code",
   "execution_count": 192,
   "id": "c38fcddb-ad8f-4923-8d81-04c44d812195",
   "metadata": {},
   "outputs": [],
   "source": [
    "df1[\"City  Location\"]=df1[\"City  Location\"].str.replace(r\".*New Delhi.*\", \"New Delhi\", regex=True)\n",
    "df1[\"City  Location\"]=df1[\"City  Location\"].str.replace(r\".*Mumbai.*\", \"Mumbai\", regex=True)\n",
    "df1[\"City  Location\"]=df1[\"City  Location\"].str.replace(\"Bengaluru\", \"Bangalore\", regex=True)\n",
    "df1[\"Industry Vertical\"]=df1[\"Industry Vertical\"].str.replace(\"eCommerce\", \"ECommerce\", regex=True)"
   ]
  },
  {
   "cell_type": "code",
   "execution_count": 193,
   "id": "8aa832e5-365e-4039-9896-ec2538350814",
   "metadata": {},
   "outputs": [
    {
     "data": {
      "text/html": [
       "<div>\n",
       "<style scoped>\n",
       "    .dataframe tbody tr th:only-of-type {\n",
       "        vertical-align: middle;\n",
       "    }\n",
       "\n",
       "    .dataframe tbody tr th {\n",
       "        vertical-align: top;\n",
       "    }\n",
       "\n",
       "    .dataframe thead th {\n",
       "        text-align: right;\n",
       "    }\n",
       "</style>\n",
       "<table border=\"1\" class=\"dataframe\">\n",
       "  <thead>\n",
       "    <tr style=\"text-align: right;\">\n",
       "      <th></th>\n",
       "      <th>Industry Vertical</th>\n",
       "      <th>City  Location</th>\n",
       "      <th>total amount</th>\n",
       "    </tr>\n",
       "  </thead>\n",
       "  <tbody>\n",
       "    <tr>\n",
       "      <th>235</th>\n",
       "      <td>ECommerce</td>\n",
       "      <td>Bangalore</td>\n",
       "      <td>6.005765e+09</td>\n",
       "    </tr>\n",
       "    <tr>\n",
       "      <th>965</th>\n",
       "      <td>Transportation</td>\n",
       "      <td>Bangalore</td>\n",
       "      <td>3.900000e+09</td>\n",
       "    </tr>\n",
       "    <tr>\n",
       "      <th>123</th>\n",
       "      <td>Consumer Internet</td>\n",
       "      <td>Bangalore</td>\n",
       "      <td>2.414368e+09</td>\n",
       "    </tr>\n",
       "    <tr>\n",
       "      <th>365</th>\n",
       "      <td>Finance</td>\n",
       "      <td>Mumbai</td>\n",
       "      <td>1.360000e+09</td>\n",
       "    </tr>\n",
       "    <tr>\n",
       "      <th>140</th>\n",
       "      <td>Consumer Internet</td>\n",
       "      <td>Mumbai</td>\n",
       "      <td>1.306580e+09</td>\n",
       "    </tr>\n",
       "    <tr>\n",
       "      <th>...</th>\n",
       "      <td>...</td>\n",
       "      <td>...</td>\n",
       "      <td>...</td>\n",
       "    </tr>\n",
       "    <tr>\n",
       "      <th>649</th>\n",
       "      <td>On-Demand Local Logistics provider</td>\n",
       "      <td>New Delhi</td>\n",
       "      <td>0.000000e+00</td>\n",
       "    </tr>\n",
       "    <tr>\n",
       "      <th>650</th>\n",
       "      <td>On-Demand Logistics Service</td>\n",
       "      <td>New Delhi</td>\n",
       "      <td>0.000000e+00</td>\n",
       "    </tr>\n",
       "    <tr>\n",
       "      <th>47</th>\n",
       "      <td>B2B marketplace for industrial goods</td>\n",
       "      <td>Mumbai</td>\n",
       "      <td>0.000000e+00</td>\n",
       "    </tr>\n",
       "    <tr>\n",
       "      <th>1013</th>\n",
       "      <td>\\\\xc2\\\\xa0Casual Dining restaurant Chain</td>\n",
       "      <td>New Delhi</td>\n",
       "      <td>0.000000e+00</td>\n",
       "    </tr>\n",
       "    <tr>\n",
       "      <th>1014</th>\n",
       "      <td>\\\\xc2\\\\xa0Contact Center Software Platform</td>\n",
       "      <td>\\\\xc2\\\\xa0Gurgaon</td>\n",
       "      <td>0.000000e+00</td>\n",
       "    </tr>\n",
       "  </tbody>\n",
       "</table>\n",
       "<p>1063 rows × 3 columns</p>\n",
       "</div>"
      ],
      "text/plain": [
       "                               Industry Vertical     City  Location  \\\n",
       "235                                    ECommerce          Bangalore   \n",
       "965                               Transportation          Bangalore   \n",
       "123                            Consumer Internet          Bangalore   \n",
       "365                                      Finance             Mumbai   \n",
       "140                            Consumer Internet             Mumbai   \n",
       "...                                          ...                ...   \n",
       "649           On-Demand Local Logistics provider          New Delhi   \n",
       "650                  On-Demand Logistics Service          New Delhi   \n",
       "47          B2B marketplace for industrial goods             Mumbai   \n",
       "1013    \\\\xc2\\\\xa0Casual Dining restaurant Chain          New Delhi   \n",
       "1014  \\\\xc2\\\\xa0Contact Center Software Platform  \\\\xc2\\\\xa0Gurgaon   \n",
       "\n",
       "      total amount  \n",
       "235   6.005765e+09  \n",
       "965   3.900000e+09  \n",
       "123   2.414368e+09  \n",
       "365   1.360000e+09  \n",
       "140   1.306580e+09  \n",
       "...            ...  \n",
       "649   0.000000e+00  \n",
       "650   0.000000e+00  \n",
       "47    0.000000e+00  \n",
       "1013  0.000000e+00  \n",
       "1014  0.000000e+00  \n",
       "\n",
       "[1063 rows x 3 columns]"
      ]
     },
     "execution_count": 193,
     "metadata": {},
     "output_type": "execute_result"
    }
   ],
   "source": [
    "CA2=(df1.groupby([\"Industry Vertical\",\"City  Location\"])[\"Amount in USD\"].sum().reset_index(name=\"total amount\")).sort_values(by=\"total amount\",ascending=False)\n",
    "CA2"
   ]
  },
  {
   "cell_type": "code",
   "execution_count": 259,
   "id": "d2f3953a-86b2-47a5-b4b6-bb6ec061a055",
   "metadata": {},
   "outputs": [
    {
     "data": {
      "text/html": [
       "<div>\n",
       "<style scoped>\n",
       "    .dataframe tbody tr th:only-of-type {\n",
       "        vertical-align: middle;\n",
       "    }\n",
       "\n",
       "    .dataframe tbody tr th {\n",
       "        vertical-align: top;\n",
       "    }\n",
       "\n",
       "    .dataframe thead th {\n",
       "        text-align: right;\n",
       "    }\n",
       "</style>\n",
       "<table border=\"1\" class=\"dataframe\">\n",
       "  <thead>\n",
       "    <tr style=\"text-align: right;\">\n",
       "      <th></th>\n",
       "      <th>Industry Vertical</th>\n",
       "      <th>City  Location</th>\n",
       "      <th>total amount</th>\n",
       "    </tr>\n",
       "  </thead>\n",
       "  <tbody>\n",
       "    <tr>\n",
       "      <th>235</th>\n",
       "      <td>ECommerce</td>\n",
       "      <td>Bangalore</td>\n",
       "      <td>6.005765e+09</td>\n",
       "    </tr>\n",
       "    <tr>\n",
       "      <th>965</th>\n",
       "      <td>Transportation</td>\n",
       "      <td>Bangalore</td>\n",
       "      <td>3.900000e+09</td>\n",
       "    </tr>\n",
       "    <tr>\n",
       "      <th>123</th>\n",
       "      <td>Consumer Internet</td>\n",
       "      <td>Bangalore</td>\n",
       "      <td>2.414368e+09</td>\n",
       "    </tr>\n",
       "    <tr>\n",
       "      <th>365</th>\n",
       "      <td>Finance</td>\n",
       "      <td>Mumbai</td>\n",
       "      <td>1.360000e+09</td>\n",
       "    </tr>\n",
       "    <tr>\n",
       "      <th>140</th>\n",
       "      <td>Consumer Internet</td>\n",
       "      <td>Mumbai</td>\n",
       "      <td>1.306580e+09</td>\n",
       "    </tr>\n",
       "    <tr>\n",
       "      <th>129</th>\n",
       "      <td>Consumer Internet</td>\n",
       "      <td>Gurgaon</td>\n",
       "      <td>1.094815e+09</td>\n",
       "    </tr>\n",
       "    <tr>\n",
       "      <th>351</th>\n",
       "      <td>FinTech</td>\n",
       "      <td>Noida</td>\n",
       "      <td>1.000000e+09</td>\n",
       "    </tr>\n",
       "    <tr>\n",
       "      <th>727</th>\n",
       "      <td>Online Marketplace</td>\n",
       "      <td>Bangalore</td>\n",
       "      <td>7.000000e+08</td>\n",
       "    </tr>\n",
       "    <tr>\n",
       "      <th>224</th>\n",
       "      <td>E-Commerce &amp; M-Commerce platform</td>\n",
       "      <td>New Delhi</td>\n",
       "      <td>6.800000e+08</td>\n",
       "    </tr>\n",
       "    <tr>\n",
       "      <th>950</th>\n",
       "      <td>Technology</td>\n",
       "      <td>Mumbai</td>\n",
       "      <td>6.131415e+08</td>\n",
       "    </tr>\n",
       "  </tbody>\n",
       "</table>\n",
       "</div>"
      ],
      "text/plain": [
       "                    Industry Vertical City  Location  total amount\n",
       "235                         ECommerce      Bangalore  6.005765e+09\n",
       "965                    Transportation      Bangalore  3.900000e+09\n",
       "123                 Consumer Internet      Bangalore  2.414368e+09\n",
       "365                           Finance         Mumbai  1.360000e+09\n",
       "140                 Consumer Internet         Mumbai  1.306580e+09\n",
       "129                 Consumer Internet        Gurgaon  1.094815e+09\n",
       "351                           FinTech          Noida  1.000000e+09\n",
       "727                Online Marketplace      Bangalore  7.000000e+08\n",
       "224  E-Commerce & M-Commerce platform      New Delhi  6.800000e+08\n",
       "950                        Technology         Mumbai  6.131415e+08"
      ]
     },
     "execution_count": 259,
     "metadata": {},
     "output_type": "execute_result"
    }
   ],
   "source": [
    "CA2=CA2.head(10)\n",
    "CA2"
   ]
  },
  {
   "cell_type": "code",
   "execution_count": 260,
   "id": "f3783331-b685-4dd8-a66d-15348898111f",
   "metadata": {},
   "outputs": [
    {
     "data": {
      "text/html": [
       "<div>\n",
       "<style scoped>\n",
       "    .dataframe tbody tr th:only-of-type {\n",
       "        vertical-align: middle;\n",
       "    }\n",
       "\n",
       "    .dataframe tbody tr th {\n",
       "        vertical-align: top;\n",
       "    }\n",
       "\n",
       "    .dataframe thead th {\n",
       "        text-align: right;\n",
       "    }\n",
       "</style>\n",
       "<table border=\"1\" class=\"dataframe\">\n",
       "  <thead>\n",
       "    <tr style=\"text-align: right;\">\n",
       "      <th>Industry Vertical</th>\n",
       "      <th>Consumer Internet</th>\n",
       "      <th>E-Commerce &amp; M-Commerce platform</th>\n",
       "      <th>ECommerce</th>\n",
       "      <th>FinTech</th>\n",
       "      <th>Finance</th>\n",
       "      <th>Online Marketplace</th>\n",
       "      <th>Technology</th>\n",
       "      <th>Transportation</th>\n",
       "    </tr>\n",
       "    <tr>\n",
       "      <th>City  Location</th>\n",
       "      <th></th>\n",
       "      <th></th>\n",
       "      <th></th>\n",
       "      <th></th>\n",
       "      <th></th>\n",
       "      <th></th>\n",
       "      <th></th>\n",
       "      <th></th>\n",
       "    </tr>\n",
       "  </thead>\n",
       "  <tbody>\n",
       "    <tr>\n",
       "      <th>Bangalore</th>\n",
       "      <td>2.414368e+09</td>\n",
       "      <td>NaN</td>\n",
       "      <td>6.005765e+09</td>\n",
       "      <td>NaN</td>\n",
       "      <td>NaN</td>\n",
       "      <td>700000000.0</td>\n",
       "      <td>NaN</td>\n",
       "      <td>3.900000e+09</td>\n",
       "    </tr>\n",
       "    <tr>\n",
       "      <th>Gurgaon</th>\n",
       "      <td>1.094815e+09</td>\n",
       "      <td>NaN</td>\n",
       "      <td>NaN</td>\n",
       "      <td>NaN</td>\n",
       "      <td>NaN</td>\n",
       "      <td>NaN</td>\n",
       "      <td>NaN</td>\n",
       "      <td>NaN</td>\n",
       "    </tr>\n",
       "    <tr>\n",
       "      <th>Mumbai</th>\n",
       "      <td>1.306580e+09</td>\n",
       "      <td>NaN</td>\n",
       "      <td>NaN</td>\n",
       "      <td>NaN</td>\n",
       "      <td>1.360000e+09</td>\n",
       "      <td>NaN</td>\n",
       "      <td>613141500.0</td>\n",
       "      <td>NaN</td>\n",
       "    </tr>\n",
       "    <tr>\n",
       "      <th>New Delhi</th>\n",
       "      <td>NaN</td>\n",
       "      <td>680000000.0</td>\n",
       "      <td>NaN</td>\n",
       "      <td>NaN</td>\n",
       "      <td>NaN</td>\n",
       "      <td>NaN</td>\n",
       "      <td>NaN</td>\n",
       "      <td>NaN</td>\n",
       "    </tr>\n",
       "    <tr>\n",
       "      <th>Noida</th>\n",
       "      <td>NaN</td>\n",
       "      <td>NaN</td>\n",
       "      <td>NaN</td>\n",
       "      <td>1.000000e+09</td>\n",
       "      <td>NaN</td>\n",
       "      <td>NaN</td>\n",
       "      <td>NaN</td>\n",
       "      <td>NaN</td>\n",
       "    </tr>\n",
       "  </tbody>\n",
       "</table>\n",
       "</div>"
      ],
      "text/plain": [
       "Industry Vertical  Consumer Internet  E-Commerce & M-Commerce platform  \\\n",
       "City  Location                                                           \n",
       "Bangalore               2.414368e+09                               NaN   \n",
       "Gurgaon                 1.094815e+09                               NaN   \n",
       "Mumbai                  1.306580e+09                               NaN   \n",
       "New Delhi                        NaN                       680000000.0   \n",
       "Noida                            NaN                               NaN   \n",
       "\n",
       "Industry Vertical     ECommerce       FinTech       Finance  \\\n",
       "City  Location                                                \n",
       "Bangalore          6.005765e+09           NaN           NaN   \n",
       "Gurgaon                     NaN           NaN           NaN   \n",
       "Mumbai                      NaN           NaN  1.360000e+09   \n",
       "New Delhi                   NaN           NaN           NaN   \n",
       "Noida                       NaN  1.000000e+09           NaN   \n",
       "\n",
       "Industry Vertical  Online Marketplace   Technology  Transportation  \n",
       "City  Location                                                      \n",
       "Bangalore                 700000000.0          NaN    3.900000e+09  \n",
       "Gurgaon                           NaN          NaN             NaN  \n",
       "Mumbai                            NaN  613141500.0             NaN  \n",
       "New Delhi                         NaN          NaN             NaN  \n",
       "Noida                             NaN          NaN             NaN  "
      ]
     },
     "execution_count": 260,
     "metadata": {},
     "output_type": "execute_result"
    }
   ],
   "source": [
    "heat2=CA2.pivot_table(values=\"total amount\",\n",
    "                 index=\"City  Location\",\n",
    "                 columns=\"Industry Vertical\",aggfunc=\"sum\")\n",
    "\n",
    "heat2"
   ]
  },
  {
   "cell_type": "code",
   "execution_count": 263,
   "id": "9a75f26d-6af3-48af-9128-678102a3438d",
   "metadata": {},
   "outputs": [
    {
     "data": {
      "image/png": "[encoded data removed]",
      "text/plain": [
       "<Figure size 800x500 with 2 Axes>"
      ]
     },
     "metadata": {},
     "output_type": "display_data"
    }
   ],
   "source": [
    "plt.figure(figsize=(8,5))\n",
    "sns.heatmap(data=heat2,annot=True,cmap=\"magma\",linewidth=1)\n",
    "plt.title('Funding Amount Comparison by City Location and Industry Vertical',fontsize=10)\n",
    "plt.show()"
   ]
  },
  {
   "cell_type": "markdown",
   "id": "f397595c-0eb0-4626-a629-5e813858b5c4",
   "metadata": {},
   "source": [
    "### GROUPED BAR CHART "
   ]
  },
  {
   "cell_type": "code",
   "execution_count": 267,
   "id": "f3175418-7de5-417c-a313-51dd95ca4c31",
   "metadata": {},
   "outputs": [],
   "source": [
    "CA=CA2.head(5)\n"
   ]
  },
  {
   "cell_type": "code",
   "execution_count": 268,
   "id": "a551ee80-274c-4d09-8b35-31274c96c2e4",
   "metadata": {},
   "outputs": [
    {
     "data": {
      "image/png": "[encoded data removed]",
      "text/plain": [
       "<Figure size 640x480 with 1 Axes>"
      ]
     },
     "metadata": {},
     "output_type": "display_data"
    }
   ],
   "source": [
    "\n",
    "sns.barplot(data=CA,y=\"total amount\",x=\"Industry Vertical\",hue=\"City  Location\",width=1)\n",
    "plt.xticks(rotation=60)\n",
    "plt.show()\n"
   ]
  },
  {
   "cell_type": "code",
   "execution_count": null,
   "id": "2dc95359-7db9-434a-914b-1abc49cf8874",
   "metadata": {},
   "outputs": [],
   "source": [
    "\n"
   ]
  },
  {
   "cell_type": "code",
   "execution_count": null,
   "id": "a057d6a5-fec8-444e-b624-fb10fb69ff06",
   "metadata": {},
   "outputs": [],
   "source": []
  }
 ],
 "metadata": {
  "kernelspec": {
   "display_name": "Python 3 (ipykernel)",
   "language": "python",
   "name": "python3"
  },
  "language_info": {
   "codemirror_mode": {
    "name": "ipython",
    "version": 3
   },
   "file_extension": ".py",
   "mimetype": "text/x-python",
   "name": "python",
   "nbconvert_exporter": "python",
   "pygments_lexer": "ipython3",
   "version": "3.13.1"
  }
 },
 "nbformat": 4,
 "nbformat_minor": 5
}
