{
 "cells": [
  {
   "cell_type": "code",
   "execution_count": null,
   "id": "37c97ca1-e703-478b-940d-19d23715126a",
   "metadata": {},
   "outputs": [],
   "source": [
    "import kagglehub\n",
    "\n",
    "# Download latest version\n",
    "path = kagglehub.dataset_download(\"abhijitdahatonde/swiggy-restuarant-dataset\")\n",
    "\n",
    "print(\"Path to dataset files:\", path)"
   ]
  },
  {
   "cell_type": "code",
   "execution_count": 53,
   "id": "e3ed0b06-c7dc-42c7-9b77-342b5249ea95",
   "metadata": {},
   "outputs": [],
   "source": [
    "import pandas as pd \n",
    "import numpy as np\n",
    "import matplotlib.pyplot as plt\n",
    "import seaborn as sns\n",
    "import warnings\n",
    "warnings.filterwarnings(\"ignore\")"
   ]
  },
  {
   "cell_type": "code",
   "execution_count": 54,
   "id": "9e3101a3-8e0d-4318-a344-979c9fc03d03",
   "metadata": {},
   "outputs": [
    {
     "data": {
      "text/html": [
       "<div>\n",
       "<style scoped>\n",
       "    .dataframe tbody tr th:only-of-type {\n",
       "        vertical-align: middle;\n",
       "    }\n",
       "\n",
       "    .dataframe tbody tr th {\n",
       "        vertical-align: top;\n",
       "    }\n",
       "\n",
       "    .dataframe thead th {\n",
       "        text-align: right;\n",
       "    }\n",
       "</style>\n",
       "<table border=\"1\" class=\"dataframe\">\n",
       "  <thead>\n",
       "    <tr style=\"text-align: right;\">\n",
       "      <th></th>\n",
       "      <th>ID</th>\n",
       "      <th>Area</th>\n",
       "      <th>City</th>\n",
       "      <th>Restaurant</th>\n",
       "      <th>Price</th>\n",
       "      <th>Avg ratings</th>\n",
       "      <th>Total ratings</th>\n",
       "      <th>Food type</th>\n",
       "      <th>Address</th>\n",
       "      <th>Delivery time</th>\n",
       "    </tr>\n",
       "  </thead>\n",
       "  <tbody>\n",
       "    <tr>\n",
       "      <th>0</th>\n",
       "      <td>211</td>\n",
       "      <td>Koramangala</td>\n",
       "      <td>Bangalore</td>\n",
       "      <td>Tandoor Hut</td>\n",
       "      <td>300.0</td>\n",
       "      <td>4.4</td>\n",
       "      <td>100</td>\n",
       "      <td>Biryani,Chinese,North Indian,South Indian</td>\n",
       "      <td>5Th Block</td>\n",
       "      <td>59</td>\n",
       "    </tr>\n",
       "    <tr>\n",
       "      <th>1</th>\n",
       "      <td>221</td>\n",
       "      <td>Koramangala</td>\n",
       "      <td>Bangalore</td>\n",
       "      <td>Tunday Kababi</td>\n",
       "      <td>300.0</td>\n",
       "      <td>4.1</td>\n",
       "      <td>100</td>\n",
       "      <td>Mughlai,Lucknowi</td>\n",
       "      <td>5Th Block</td>\n",
       "      <td>56</td>\n",
       "    </tr>\n",
       "    <tr>\n",
       "      <th>2</th>\n",
       "      <td>246</td>\n",
       "      <td>Jogupalya</td>\n",
       "      <td>Bangalore</td>\n",
       "      <td>Kim Lee</td>\n",
       "      <td>650.0</td>\n",
       "      <td>4.4</td>\n",
       "      <td>100</td>\n",
       "      <td>Chinese</td>\n",
       "      <td>Double Road</td>\n",
       "      <td>50</td>\n",
       "    </tr>\n",
       "    <tr>\n",
       "      <th>3</th>\n",
       "      <td>248</td>\n",
       "      <td>Indiranagar</td>\n",
       "      <td>Bangalore</td>\n",
       "      <td>New Punjabi Hotel</td>\n",
       "      <td>250.0</td>\n",
       "      <td>3.9</td>\n",
       "      <td>500</td>\n",
       "      <td>North Indian,Punjabi,Tandoor,Chinese</td>\n",
       "      <td>80 Feet Road</td>\n",
       "      <td>57</td>\n",
       "    </tr>\n",
       "    <tr>\n",
       "      <th>4</th>\n",
       "      <td>249</td>\n",
       "      <td>Indiranagar</td>\n",
       "      <td>Bangalore</td>\n",
       "      <td>Nh8</td>\n",
       "      <td>350.0</td>\n",
       "      <td>4.0</td>\n",
       "      <td>50</td>\n",
       "      <td>Rajasthani,Gujarati,North Indian,Snacks,Desser...</td>\n",
       "      <td>80 Feet Road</td>\n",
       "      <td>63</td>\n",
       "    </tr>\n",
       "  </tbody>\n",
       "</table>\n",
       "</div>"
      ],
      "text/plain": [
       "    ID         Area       City         Restaurant  Price  Avg ratings  \\\n",
       "0  211  Koramangala  Bangalore        Tandoor Hut  300.0          4.4   \n",
       "1  221  Koramangala  Bangalore      Tunday Kababi  300.0          4.1   \n",
       "2  246    Jogupalya  Bangalore            Kim Lee  650.0          4.4   \n",
       "3  248  Indiranagar  Bangalore  New Punjabi Hotel  250.0          3.9   \n",
       "4  249  Indiranagar  Bangalore                Nh8  350.0          4.0   \n",
       "\n",
       "   Total ratings                                          Food type  \\\n",
       "0            100          Biryani,Chinese,North Indian,South Indian   \n",
       "1            100                                   Mughlai,Lucknowi   \n",
       "2            100                                            Chinese   \n",
       "3            500               North Indian,Punjabi,Tandoor,Chinese   \n",
       "4             50  Rajasthani,Gujarati,North Indian,Snacks,Desser...   \n",
       "\n",
       "        Address  Delivery time  \n",
       "0     5Th Block             59  \n",
       "1     5Th Block             56  \n",
       "2   Double Road             50  \n",
       "3  80 Feet Road             57  \n",
       "4  80 Feet Road             63  "
      ]
     },
     "execution_count": 54,
     "metadata": {},
     "output_type": "execute_result"
    }
   ],
   "source": [
    "df=pd.read_csv(\"swiggy.csv\")\n",
    "df.head()"
   ]
  },
  {
   "cell_type": "code",
   "execution_count": null,
   "id": "7da3a28b-d141-4760-affd-d8a94859f559",
   "metadata": {},
   "outputs": [],
   "source": [
    "### Count Restaurants"
   ]
  },
  {
   "cell_type": "code",
   "execution_count": 55,
   "id": "b7e0177b-f622-4530-acb0-d3fe6e8b58d4",
   "metadata": {},
   "outputs": [
    {
     "data": {
      "text/plain": [
       "7865"
      ]
     },
     "execution_count": 55,
     "metadata": {},
     "output_type": "execute_result"
    }
   ],
   "source": [
    "df[\"Restaurant\"].nunique()"
   ]
  },
  {
   "cell_type": "code",
   "execution_count": 56,
   "id": "eca7a49c-1d10-42c6-8ecb-4d0bbbd3097d",
   "metadata": {},
   "outputs": [],
   "source": [
    "### Find Maximum Price:"
   ]
  },
  {
   "cell_type": "code",
   "execution_count": 57,
   "id": "efe6baac-736e-4899-a108-ad0ef1e13ec3",
   "metadata": {},
   "outputs": [
    {
     "data": {
      "text/plain": [
       "np.float64(2500.0)"
      ]
     },
     "execution_count": 57,
     "metadata": {},
     "output_type": "execute_result"
    }
   ],
   "source": [
    "df[\"Price\"].max()"
   ]
  },
  {
   "cell_type": "code",
   "execution_count": 58,
   "id": "f0272008-1281-4320-a1d6-a4e0d77a8f21",
   "metadata": {},
   "outputs": [],
   "source": [
    "### Average Ratings"
   ]
  },
  {
   "cell_type": "code",
   "execution_count": 59,
   "id": "58d8b905-96a5-471d-b7a3-f95bb7429a08",
   "metadata": {},
   "outputs": [
    {
     "data": {
      "text/plain": [
       "np.float64(3.66)"
      ]
     },
     "execution_count": 59,
     "metadata": {},
     "output_type": "execute_result"
    }
   ],
   "source": [
    "df[\"Avg ratings\"].mean().round(2)"
   ]
  },
  {
   "cell_type": "code",
   "execution_count": 60,
   "id": "06b0164d-ca00-4e19-a346-e7d3bb528e8e",
   "metadata": {},
   "outputs": [],
   "source": [
    "### Total Ratings:"
   ]
  },
  {
   "cell_type": "code",
   "execution_count": 61,
   "id": "67f96d19-9395-4ee9-8f96-f54f8c64fd78",
   "metadata": {},
   "outputs": [
    {
     "data": {
      "text/plain": [
       "np.float64(31726.3)"
      ]
     },
     "execution_count": 61,
     "metadata": {},
     "output_type": "execute_result"
    }
   ],
   "source": [
    "df[\"Avg ratings\"].sum().round(2)"
   ]
  },
  {
   "cell_type": "code",
   "execution_count": 62,
   "id": "4932858d-48b3-4cd7-9727-49d1efb4cd5f",
   "metadata": {},
   "outputs": [],
   "source": [
    "#### Food Type Count"
   ]
  },
  {
   "cell_type": "code",
   "execution_count": 63,
   "id": "e37f5a0d-6cd5-48cd-8cb6-ef151ea8194a",
   "metadata": {},
   "outputs": [
    {
     "data": {
      "text/plain": [
       "601"
      ]
     },
     "execution_count": 63,
     "metadata": {},
     "output_type": "execute_result"
    }
   ],
   "source": [
    "df[\"Food type\"].str.split(\",\",expand=True).stack().nunique()"
   ]
  },
  {
   "cell_type": "code",
   "execution_count": 64,
   "id": "50a8b16a-f8ab-4cac-8a76-f10f20cc8649",
   "metadata": {},
   "outputs": [],
   "source": [
    "## Medium Questions"
   ]
  },
  {
   "cell_type": "code",
   "execution_count": 65,
   "id": "a0c73439-2ee4-45b1-8a0e-309998f1e10b",
   "metadata": {},
   "outputs": [],
   "source": [
    "## City Analysis:"
   ]
  },
  {
   "cell_type": "code",
   "execution_count": 66,
   "id": "14f814ed-7b00-4514-925a-07fb8d29e522",
   "metadata": {},
   "outputs": [
    {
     "data": {
      "text/html": [
       "<div>\n",
       "<style scoped>\n",
       "    .dataframe tbody tr th:only-of-type {\n",
       "        vertical-align: middle;\n",
       "    }\n",
       "\n",
       "    .dataframe tbody tr th {\n",
       "        vertical-align: top;\n",
       "    }\n",
       "\n",
       "    .dataframe thead th {\n",
       "        text-align: right;\n",
       "    }\n",
       "</style>\n",
       "<table border=\"1\" class=\"dataframe\">\n",
       "  <thead>\n",
       "    <tr style=\"text-align: right;\">\n",
       "      <th></th>\n",
       "      <th>City</th>\n",
       "      <th>No_of _restaurant</th>\n",
       "    </tr>\n",
       "  </thead>\n",
       "  <tbody>\n",
       "    <tr>\n",
       "      <th>5</th>\n",
       "      <td>Kolkata</td>\n",
       "      <td>1346</td>\n",
       "    </tr>\n",
       "    <tr>\n",
       "      <th>6</th>\n",
       "      <td>Mumbai</td>\n",
       "      <td>1277</td>\n",
       "    </tr>\n",
       "    <tr>\n",
       "      <th>2</th>\n",
       "      <td>Chennai</td>\n",
       "      <td>1106</td>\n",
       "    </tr>\n",
       "  </tbody>\n",
       "</table>\n",
       "</div>"
      ],
      "text/plain": [
       "      City  No_of _restaurant\n",
       "5  Kolkata               1346\n",
       "6   Mumbai               1277\n",
       "2  Chennai               1106"
      ]
     },
     "execution_count": 66,
     "metadata": {},
     "output_type": "execute_result"
    }
   ],
   "source": [
    "cities_max_restaurant=df.groupby(\"City\")[\"Restaurant\"].count().reset_index(name=\"No_of _restaurant\").sort_values(by=\"No_of _restaurant\",ascending=False)\n",
    "cities_max_restaurant.head(3)"
   ]
  },
  {
   "cell_type": "code",
   "execution_count": 67,
   "id": "1eac78a3-7ac3-4ba4-b48c-8965e0636ff0",
   "metadata": {},
   "outputs": [],
   "source": [
    "### Price Comparison"
   ]
  },
  {
   "cell_type": "code",
   "execution_count": 68,
   "id": "34f03ce5-5d3f-41a4-9a8c-ec629e5e72fc",
   "metadata": {},
   "outputs": [
    {
     "ename": "SyntaxError",
     "evalue": "invalid syntax (1760163288.py, line 1)",
     "output_type": "error",
     "traceback": [
      "\u001b[1;36m  Cell \u001b[1;32mIn[68], line 1\u001b[1;36m\u001b[0m\n\u001b[1;33m    df[\"Food type\"].str,split(\",\",expand=True).\u001b[0m\n\u001b[1;37m                                               ^\u001b[0m\n\u001b[1;31mSyntaxError\u001b[0m\u001b[1;31m:\u001b[0m invalid syntax\n"
     ]
    }
   ],
   "source": [
    "df[\"Food type\"].str,split(\",\",expand=True)."
   ]
  },
  {
   "cell_type": "code",
   "execution_count": null,
   "id": "68e815d7-7a3f-4829-9b9f-7656d13e48dd",
   "metadata": {},
   "outputs": [],
   "source": []
  },
  {
   "cell_type": "code",
   "execution_count": 69,
   "id": "76c475bc-e0f4-4c41-82a1-3b174ca2eb25",
   "metadata": {},
   "outputs": [],
   "source": [
    "##Rating Distribution"
   ]
  },
  {
   "cell_type": "code",
   "execution_count": 76,
   "id": "c4a66819-b46c-44d4-a5ac-de94b9191835",
   "metadata": {},
   "outputs": [],
   "source": [
    "Rating_dist=df.groupby(\"Restaurant\")[\"Avg ratings\"].mean().reset_index()\n",
    "Rating_dist=Rating_dist.head(50)"
   ]
  },
  {
   "cell_type": "code",
   "execution_count": 84,
   "id": "8b22952b-a4bc-4ef8-aa35-bb2b7dc3f5b2",
   "metadata": {},
   "outputs": [
    {
     "data": {
      "image/png": "[encoded data removed]",
      "text/plain": [
       "<Figure size 600x800 with 1 Axes>"
      ]
     },
     "metadata": {},
     "output_type": "display_data"
    }
   ],
   "source": [
    "plt.figure(figsize=(6,8))\n",
    "sns.histplot(data=Rating_dist)\n",
    "plt.xlabel(\"Restaurant Count\")\n",
    "plt.ylabel(\"Respective rating \")\n",
    "plt.title(\"Average ratings to show the distribution of restaurant ratings by aggrigating the restaurants\")\n",
    "plt.show()"
   ]
  },
  {
   "cell_type": "code",
   "execution_count": 72,
   "id": "721e7e4d-8b63-4db3-8c17-dcda69e60925",
   "metadata": {},
   "outputs": [],
   "source": [
    "### Delivery Time Analysis:"
   ]
  },
  {
   "cell_type": "code",
   "execution_count": 73,
   "id": "b9e018d0-17a5-47a5-a919-f6759630ead2",
   "metadata": {},
   "outputs": [
    {
     "name": "stdout",
     "output_type": "stream",
     "text": [
      "<class 'pandas.core.frame.DataFrame'>\n",
      "RangeIndex: 8680 entries, 0 to 8679\n",
      "Data columns (total 10 columns):\n",
      " #   Column         Non-Null Count  Dtype  \n",
      "---  ------         --------------  -----  \n",
      " 0   ID             8680 non-null   int64  \n",
      " 1   Area           8680 non-null   object \n",
      " 2   City           8680 non-null   object \n",
      " 3   Restaurant     8680 non-null   object \n",
      " 4   Price          8680 non-null   float64\n",
      " 5   Avg ratings    8680 non-null   float64\n",
      " 6   Total ratings  8680 non-null   int64  \n",
      " 7   Food type      8680 non-null   object \n",
      " 8   Address        8680 non-null   object \n",
      " 9   Delivery time  8680 non-null   int64  \n",
      "dtypes: float64(2), int64(3), object(5)\n",
      "memory usage: 678.3+ KB\n"
     ]
    }
   ],
   "source": [
    "df.info()"
   ]
  },
  {
   "cell_type": "code",
   "execution_count": 85,
   "id": "978e937f-b39a-4aee-8d84-239363cefc76",
   "metadata": {},
   "outputs": [
    {
     "data": {
      "text/plain": [
       "np.float64(51.989083596667626)"
      ]
     },
     "execution_count": 85,
     "metadata": {},
     "output_type": "execute_result"
    }
   ],
   "source": [
    "df[df[\"Avg ratings\"]>4][\"Delivery time\"].mean()"
   ]
  },
  {
   "cell_type": "code",
   "execution_count": null,
   "id": "e34854b9-8211-4ad3-9d8f-13ad581e0e6e",
   "metadata": {},
   "outputs": [],
   "source": [
    "###Top Rated Restaurants:"
   ]
  },
  {
   "cell_type": "code",
   "execution_count": 86,
   "id": "15689658-7ea5-443f-850e-7a09769eba27",
   "metadata": {},
   "outputs": [
    {
     "data": {
      "text/html": [
       "<div>\n",
       "<style scoped>\n",
       "    .dataframe tbody tr th:only-of-type {\n",
       "        vertical-align: middle;\n",
       "    }\n",
       "\n",
       "    .dataframe tbody tr th {\n",
       "        vertical-align: top;\n",
       "    }\n",
       "\n",
       "    .dataframe thead th {\n",
       "        text-align: right;\n",
       "    }\n",
       "</style>\n",
       "<table border=\"1\" class=\"dataframe\">\n",
       "  <thead>\n",
       "    <tr style=\"text-align: right;\">\n",
       "      <th></th>\n",
       "      <th>Restaurant</th>\n",
       "      <th>Food type</th>\n",
       "      <th>Avg ratings</th>\n",
       "    </tr>\n",
       "  </thead>\n",
       "  <tbody>\n",
       "    <tr>\n",
       "      <th>5424</th>\n",
       "      <td>Get In My Belly</td>\n",
       "      <td>Indian</td>\n",
       "      <td>5.0</td>\n",
       "    </tr>\n",
       "    <tr>\n",
       "      <th>5425</th>\n",
       "      <td>The Asian Pavilion</td>\n",
       "      <td>Asian  Chinese</td>\n",
       "      <td>5.0</td>\n",
       "    </tr>\n",
       "    <tr>\n",
       "      <th>5519</th>\n",
       "      <td>Cafe Kokomo</td>\n",
       "      <td>Beverages,Snacks,Desserts,Bakery</td>\n",
       "      <td>5.0</td>\n",
       "    </tr>\n",
       "    <tr>\n",
       "      <th>8571</th>\n",
       "      <td>Afresh</td>\n",
       "      <td>Healthy Food,Salads,Desserts,Beverages</td>\n",
       "      <td>5.0</td>\n",
       "    </tr>\n",
       "    <tr>\n",
       "      <th>6297</th>\n",
       "      <td>Fat Tiger</td>\n",
       "      <td>Pizzas,Chinese,Snacks,Beverages,American</td>\n",
       "      <td>5.0</td>\n",
       "    </tr>\n",
       "  </tbody>\n",
       "</table>\n",
       "</div>"
      ],
      "text/plain": [
       "              Restaurant                                 Food type  \\\n",
       "5424     Get In My Belly                                    Indian   \n",
       "5425  The Asian Pavilion                            Asian  Chinese   \n",
       "5519         Cafe Kokomo          Beverages,Snacks,Desserts,Bakery   \n",
       "8571              Afresh    Healthy Food,Salads,Desserts,Beverages   \n",
       "6297           Fat Tiger  Pizzas,Chinese,Snacks,Beverages,American   \n",
       "\n",
       "      Avg ratings  \n",
       "5424          5.0  \n",
       "5425          5.0  \n",
       "5519          5.0  \n",
       "8571          5.0  \n",
       "6297          5.0  "
      ]
     },
     "execution_count": 86,
     "metadata": {},
     "output_type": "execute_result"
    }
   ],
   "source": [
    "top_5=df.sort_values(by=\"Avg ratings\",ascending=False).head()\n",
    "top_5=top_5[[\"Restaurant\",\"Food type\",\"Avg ratings\"]]\n",
    "top_5"
   ]
  },
  {
   "cell_type": "code",
   "execution_count": null,
   "id": "ae5cbbdf-f9af-40d7-9c03-76c52aba8d11",
   "metadata": {},
   "outputs": [],
   "source": []
  },
  {
   "cell_type": "markdown",
   "id": "4ee97a5e-3865-4d16-a38d-e30d12ebe587",
   "metadata": {},
   "source": [
    "# Hard Questions\n"
   ]
  },
  {
   "cell_type": "code",
   "execution_count": null,
   "id": "8ff66f15-55f3-4684-9bad-f23aaefb02df",
   "metadata": {},
   "outputs": [],
   "source": [
    "### Correlation Analysis"
   ]
  },
  {
   "cell_type": "code",
   "execution_count": 87,
   "id": "76728187-d338-4c98-aa50-b4b979e17196",
   "metadata": {},
   "outputs": [
    {
     "data": {
      "text/plain": [
       "np.float64(0.11363038630435676)"
      ]
     },
     "execution_count": 87,
     "metadata": {},
     "output_type": "execute_result"
    }
   ],
   "source": [
    "df[\"Price\"].corr(df[\"Avg ratings\"])"
   ]
  },
  {
   "cell_type": "markdown",
   "id": "ea3e7453-a138-4be7-8888-b1738b91eba6",
   "metadata": {},
   "source": [
    "#### here the corelation coeficient is 0.1 which is slighlty positive and greater than 0 . so  here we can say that there is weak  positive relation between the price and the rating "
   ]
  },
  {
   "cell_type": "code",
   "execution_count": 88,
   "id": "1b0610f8-d575-4e52-a397-8d4cea0e72e6",
   "metadata": {},
   "outputs": [
    {
     "data": {
      "image/png": "[encoded data removed]",
      "text/plain": [
       "<Figure size 640x480 with 1 Axes>"
      ]
     },
     "metadata": {},
     "output_type": "display_data"
    }
   ],
   "source": [
    "sns.scatterplot(x=df[\"Avg ratings\"],y=df[\"Price\"])\n",
    "plt.show()\n"
   ]
  },
  {
   "cell_type": "code",
   "execution_count": null,
   "id": "6a6fd719-2dac-4a86-83ac-abbe79ffe746",
   "metadata": {},
   "outputs": [],
   "source": [
    "### Delivery Time Outliers"
   ]
  },
  {
   "cell_type": "code",
   "execution_count": 89,
   "id": "61aa5823-0780-4666-9fa7-e213baf56d06",
   "metadata": {},
   "outputs": [
    {
     "data": {
      "text/plain": [
       "Restaurant\n",
       "La Pino'Z Pizza              13\n",
       "Baskin Robbins               10\n",
       "Nic Natural Ice Creams       10\n",
       "Subway                       10\n",
       "Kfc                           9\n",
       "                             ..\n",
       "Zaika The Bakers              1\n",
       "Bangarpet Chats               1\n",
       "Shree Ram Parotha House       1\n",
       "Juice World Fresh N Juicy     1\n",
       "Jay Arbuda Food Point         1\n",
       "Name: count, Length: 7865, dtype: int64"
      ]
     },
     "execution_count": 89,
     "metadata": {},
     "output_type": "execute_result"
    }
   ],
   "source": [
    "df[\"Restaurant\"].value_counts()"
   ]
  },
  {
   "cell_type": "code",
   "execution_count": 90,
   "id": "f7d2403e-8db6-4e8b-a452-fabbbd5aec97",
   "metadata": {},
   "outputs": [
    {
     "data": {
      "image/png": "[encoded data removed]",
      "text/plain": [
       "<Figure size 640x480 with 1 Axes>"
      ]
     },
     "metadata": {},
     "output_type": "display_data"
    }
   ],
   "source": [
    "sns.boxplot(df[\"Delivery time\"])\n",
    "plt.show()"
   ]
  },
  {
   "cell_type": "markdown",
   "id": "ec52cce9-7f88-45c7-8ac7-47c4f854b14a",
   "metadata": {},
   "source": [
    "#### from this boxplot we can  say that the  mean delivery time is  50-55 minutes where the  delivery time above 95 min are consider to be outliers  whic are above the interquartile range   "
   ]
  },
  {
   "cell_type": "code",
   "execution_count": 91,
   "id": "0e9a5f6c-5a74-42c5-a772-2b103529bad7",
   "metadata": {},
   "outputs": [],
   "source": [
    "### Price and Ratings Box Plot"
   ]
  },
  {
   "cell_type": "markdown",
   "id": "c237f5e5-c49f-4d94-9562-e111328ba923",
   "metadata": {},
   "source": [
    "### with forming the categories"
   ]
  },
  {
   "cell_type": "code",
   "execution_count": 99,
   "id": "cbbd8a6d-f141-4471-b0ed-8e81f24e798b",
   "metadata": {},
   "outputs": [],
   "source": [
    "def rating(rate):\n",
    "    if rate <3:\n",
    "        return \"Below 3\"\n",
    "    elif rate >3 and rate <4:\n",
    "        return \"Between 3-4\"\n",
    "    else:\n",
    "        return\" Above 4\"\n",
    "df[\"Rating_category\"]=df[\"Avg ratings\"].apply(rating)\n",
    "data_cat=df[[\"Rating_category\",\"Avg ratings\"]]"
   ]
  },
  {
   "cell_type": "code",
   "execution_count": 104,
   "id": "7cbc44dd-ec61-4991-b6b2-b2d86e839b89",
   "metadata": {},
   "outputs": [
    {
     "data": {
      "image/png": "[encoded data removed]",
      "text/plain": [
       "<Figure size 640x480 with 1 Axes>"
      ]
     },
     "metadata": {},
     "output_type": "display_data"
    }
   ],
   "source": [
    "sns.boxplot(data=data_cat,y=\"Avg ratings\",x=\"Rating_category\")\n",
    "plt.show()"
   ]
  },
  {
   "cell_type": "markdown",
   "id": "b5783a15-69ef-4115-bc07-1ff89fea65a2",
   "metadata": {},
   "source": [
    "### without formaing the  categories\n"
   ]
  },
  {
   "cell_type": "code",
   "execution_count": 105,
   "id": "a1275ac4-9d18-429a-a5c7-f8a04fcdd48b",
   "metadata": {},
   "outputs": [
    {
     "data": {
      "image/png": "[encoded data removed]",
      "text/plain": [
       "<Figure size 640x480 with 1 Axes>"
      ]
     },
     "metadata": {},
     "output_type": "display_data"
    }
   ],
   "source": [
    "sns.boxplot(data=df[\"Avg ratings\"])\n",
    "plt.show()"
   ]
  },
  {
   "cell_type": "code",
   "execution_count": null,
   "id": "1961674a-e64f-44ac-9a19-c3964ba9d664",
   "metadata": {},
   "outputs": [],
   "source": [
    "### Group Analysis "
   ]
  },
  {
   "cell_type": "code",
   "execution_count": 151,
   "id": "8f76b275-10b3-404f-a826-95a14f925ff7",
   "metadata": {},
   "outputs": [],
   "source": [
    "data_grouped=(df.groupby(\"City\")[[\"Price\",\"Avg ratings\"]].mean())\n"
   ]
  },
  {
   "cell_type": "code",
   "execution_count": 152,
   "id": "4ec9e03a-34af-4158-b53b-f92838fd2e99",
   "metadata": {},
   "outputs": [
    {
     "data": {
      "image/png": "[encoded data removed]",
      "text/plain": [
       "<Figure size 1000x700 with 1 Axes>"
      ]
     },
     "metadata": {},
     "output_type": "display_data"
    }
   ],
   "source": [
    "plt.figure(figsize=(10,7))\n",
    "sns.barplot(data=data_grouped,x=\"Avg ratings\",y=\"Price\",hue=\"City\")\n",
    "plt.xlabel(\"Avg ratings\")\n",
    "plt.xticks(rotation=60)\n",
    "plt.ylabel(\"Price\")\n",
    "plt.title(\"The average price and average rating for each city\")\n",
    "plt.show()"
   ]
  },
  {
   "cell_type": "code",
   "execution_count": null,
   "id": "9fd88cbe-3983-4d33-961e-fa9ef46df0e6",
   "metadata": {},
   "outputs": [],
   "source": []
  },
  {
   "cell_type": "code",
   "execution_count": 94,
   "id": "4fa678cc-037b-4435-855b-42e6cd5956ff",
   "metadata": {},
   "outputs": [
    {
     "data": {
      "text/plain": [
       "Avg ratings\n",
       "2.0       1\n",
       "2.2       3\n",
       "2.3       1\n",
       "2.4       1\n",
       "2.5       1\n",
       "2.6       2\n",
       "2.7      11\n",
       "2.8      15\n",
       "2.9    3279\n",
       "3.0      25\n",
       "3.1      26\n",
       "3.2      45\n",
       "3.3      51\n",
       "3.4      60\n",
       "3.5      95\n",
       "3.6     118\n",
       "3.7     207\n",
       "3.8     313\n",
       "3.9     421\n",
       "4.0     524\n",
       "4.1     700\n",
       "4.2     754\n",
       "4.3     792\n",
       "4.4     573\n",
       "4.5     338\n",
       "4.6     166\n",
       "4.7      96\n",
       "4.8      29\n",
       "4.9      15\n",
       "5.0      18\n",
       "Name: Price, dtype: int64"
      ]
     },
     "execution_count": 94,
     "metadata": {},
     "output_type": "execute_result"
    }
   ],
   "source": [
    "data_rateing=df.groupby(\"Avg ratings\")[\"Price\"].count()"
   ]
  },
  {
   "cell_type": "code",
   "execution_count": 93,
   "id": "dba1733b-559e-4609-8c02-ed14d8683a39",
   "metadata": {},
   "outputs": [
    {
     "data": {
      "text/html": [
       "<div>\n",
       "<style scoped>\n",
       "    .dataframe tbody tr th:only-of-type {\n",
       "        vertical-align: middle;\n",
       "    }\n",
       "\n",
       "    .dataframe tbody tr th {\n",
       "        vertical-align: top;\n",
       "    }\n",
       "\n",
       "    .dataframe thead th {\n",
       "        text-align: right;\n",
       "    }\n",
       "</style>\n",
       "<table border=\"1\" class=\"dataframe\">\n",
       "  <thead>\n",
       "    <tr style=\"text-align: right;\">\n",
       "      <th></th>\n",
       "      <th>Restaurant</th>\n",
       "      <th>Price</th>\n",
       "    </tr>\n",
       "  </thead>\n",
       "  <tbody>\n",
       "    <tr>\n",
       "      <th>4119</th>\n",
       "      <td>Malgudi - The Savera Hotel</td>\n",
       "      <td>2500.0</td>\n",
       "    </tr>\n",
       "    <tr>\n",
       "      <th>3207</th>\n",
       "      <td>Itc Windsor - Gourmet Couch</td>\n",
       "      <td>2500.0</td>\n",
       "    </tr>\n",
       "    <tr>\n",
       "      <th>4952</th>\n",
       "      <td>Origami Japanese &amp; Korean Restaurant</td>\n",
       "      <td>2500.0</td>\n",
       "    </tr>\n",
       "    <tr>\n",
       "      <th>1692</th>\n",
       "      <td>Conrad Pune</td>\n",
       "      <td>2000.0</td>\n",
       "    </tr>\n",
       "    <tr>\n",
       "      <th>7774</th>\n",
       "      <td>Yauatcha</td>\n",
       "      <td>2000.0</td>\n",
       "    </tr>\n",
       "    <tr>\n",
       "      <th>...</th>\n",
       "      <td>...</td>\n",
       "      <td>...</td>\n",
       "    </tr>\n",
       "    <tr>\n",
       "      <th>4581</th>\n",
       "      <td>Murugappa Mess</td>\n",
       "      <td>1.0</td>\n",
       "    </tr>\n",
       "    <tr>\n",
       "      <th>4493</th>\n",
       "      <td>Mozza</td>\n",
       "      <td>0.0</td>\n",
       "    </tr>\n",
       "    <tr>\n",
       "      <th>3806</th>\n",
       "      <td>Ladli Fast Food</td>\n",
       "      <td>0.0</td>\n",
       "    </tr>\n",
       "    <tr>\n",
       "      <th>1687</th>\n",
       "      <td>Comfy Restaurant</td>\n",
       "      <td>0.0</td>\n",
       "    </tr>\n",
       "    <tr>\n",
       "      <th>4191</th>\n",
       "      <td>Maruti Dhosa Hub</td>\n",
       "      <td>0.0</td>\n",
       "    </tr>\n",
       "  </tbody>\n",
       "</table>\n",
       "<p>7865 rows × 2 columns</p>\n",
       "</div>"
      ],
      "text/plain": [
       "                                Restaurant   Price\n",
       "4119            Malgudi - The Savera Hotel  2500.0\n",
       "3207           Itc Windsor - Gourmet Couch  2500.0\n",
       "4952  Origami Japanese & Korean Restaurant  2500.0\n",
       "1692                           Conrad Pune  2000.0\n",
       "7774                              Yauatcha  2000.0\n",
       "...                                    ...     ...\n",
       "4581                        Murugappa Mess     1.0\n",
       "4493                                 Mozza     0.0\n",
       "3806                       Ladli Fast Food     0.0\n",
       "1687                      Comfy Restaurant     0.0\n",
       "4191                      Maruti Dhosa Hub     0.0\n",
       "\n",
       "[7865 rows x 2 columns]"
      ]
     },
     "execution_count": 93,
     "metadata": {},
     "output_type": "execute_result"
    }
   ],
   "source": [
    "maximum_price=df.groupby(\"Restaurant\")[\"Price\"].max().reset_index().sort_values(by=\"Price\",ascending=False)\n",
    "maximum_price"
   ]
  },
  {
   "cell_type": "code",
   "execution_count": null,
   "id": "564a3448-ab54-409a-a689-46b13163985d",
   "metadata": {},
   "outputs": [],
   "source": []
  },
  {
   "cell_type": "code",
   "execution_count": null,
   "id": "9c4f836d-76a5-44d9-93b0-06587ceab55b",
   "metadata": {},
   "outputs": [],
   "source": []
  },
  {
   "cell_type": "code",
   "execution_count": null,
   "id": "91da9ed8-d93d-4d27-aaf4-a5423f9d5106",
   "metadata": {},
   "outputs": [],
   "source": []
  },
  {
   "cell_type": "code",
   "execution_count": null,
   "id": "931b7265-7153-4604-95c5-eb2c2cc0395a",
   "metadata": {},
   "outputs": [],
   "source": []
  },
  {
   "cell_type": "code",
   "execution_count": null,
   "id": "dcc85a64-cf33-49ee-8c0a-28a188ae4e2f",
   "metadata": {},
   "outputs": [],
   "source": []
  },
  {
   "cell_type": "code",
   "execution_count": null,
   "id": "51ae8958-5db0-4d9d-8111-1ca07ef080ef",
   "metadata": {},
   "outputs": [],
   "source": []
  },
  {
   "cell_type": "code",
   "execution_count": null,
   "id": "67512f74-32e5-484a-ae8d-dc875c221c0d",
   "metadata": {},
   "outputs": [],
   "source": []
  },
  {
   "cell_type": "code",
   "execution_count": null,
   "id": "f9158814-19ca-489c-a37d-d67335ab0be2",
   "metadata": {},
   "outputs": [],
   "source": []
  },
  {
   "cell_type": "code",
   "execution_count": null,
   "id": "9f81f906-4018-4e0a-bf6c-4832ec91d2a1",
   "metadata": {},
   "outputs": [],
   "source": []
  },
  {
   "cell_type": "code",
   "execution_count": null,
   "id": "6138f554-520c-473f-97e1-e0f632092568",
   "metadata": {},
   "outputs": [],
   "source": []
  },
  {
   "cell_type": "code",
   "execution_count": null,
   "id": "2db8da15-4b09-48fd-aba4-d724800a3e65",
   "metadata": {},
   "outputs": [],
   "source": []
  }
 ],
 "metadata": {
  "kernelspec": {
   "display_name": "Python 3 (ipykernel)",
   "language": "python",
   "name": "python3"
  },
  "language_info": {
   "codemirror_mode": {
    "name": "ipython",
    "version": 3
   },
   "file_extension": ".py",
   "mimetype": "text/x-python",
   "name": "python",
   "nbconvert_exporter": "python",
   "pygments_lexer": "ipython3",
   "version": "3.13.1"
  }
 },
 "nbformat": 4,
 "nbformat_minor": 5
}
